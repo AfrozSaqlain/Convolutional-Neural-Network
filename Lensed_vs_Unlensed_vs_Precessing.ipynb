{
  "cells": [
    {
      "cell_type": "markdown",
      "metadata": {
        "id": "view-in-github",
        "colab_type": "text"
      },
      "source": [
        "<a href=\"https://colab.research.google.com/github/AfrozSaqlain/Convolutional-Neural-Network/blob/main/Lensed_vs_Unlensed_vs_Precessing.ipynb\" target=\"_parent\"><img src=\"https://colab.research.google.com/assets/colab-badge.svg\" alt=\"Open In Colab\"/></a>"
      ]
    },
    {
      "cell_type": "code",
      "execution_count": null,
      "metadata": {
        "colab": {
          "background_save": true
        },
        "id": "2R9mEYkU4TCs",
        "outputId": "2733f4b5-f726-47bb-bd06-6f9c5a1bb148"
      },
      "outputs": [
        {
          "name": "stdout",
          "output_type": "stream",
          "text": [
            "Cloning into 'gwmat'...\n",
            "remote: Enumerating objects: 2048, done.\u001b[K\n",
            "remote: Counting objects: 100% (2048/2048), done.\u001b[K\n",
            "remote: Compressing objects: 100% (1074/1074), done.\u001b[K\n",
            "remote: Total 2048 (delta 1014), reused 1933 (delta 954), pack-reused 0 (from 0)\u001b[K\n",
            "Receiving objects: 100% (2048/2048), 77.19 MiB | 23.81 MiB/s, done.\n",
            "Resolving deltas: 100% (1014/1014), done.\n"
          ]
        }
      ],
      "source": [
        "# !git clone https://git.ligo.org/anuj.mishra/gwmat.git"
      ]
    },
    {
      "cell_type": "code",
      "execution_count": null,
      "metadata": {
        "colab": {
          "background_save": true
        },
        "id": "Fsdf9M6Q4bBU",
        "outputId": "74cca816-cabc-44db-ed37-a7bdb8085a61"
      },
      "outputs": [
        {
          "name": "stdout",
          "output_type": "stream",
          "text": [
            "/content/gwmat\n"
          ]
        }
      ],
      "source": [
        "# %cd gwmat"
      ]
    },
    {
      "cell_type": "code",
      "execution_count": null,
      "metadata": {
        "id": "W79nvMuv4fSk"
      },
      "outputs": [],
      "source": [
        "# !pip install ."
      ]
    },
    {
      "cell_type": "code",
      "execution_count": null,
      "metadata": {
        "id": "otjoGSY-4jFt"
      },
      "outputs": [],
      "source": [
        "# !pip install bilby pycbc gwpy"
      ]
    },
    {
      "cell_type": "code",
      "execution_count": null,
      "metadata": {
        "id": "WMeZFES04sbb"
      },
      "outputs": [],
      "source": [
        "# import warnings\n",
        "# warnings.filterwarnings(\"ignore\", \"Wswiglal-redir-stdio\")\n",
        "\n",
        "# from pycbc.waveform.waveform import get_fd_waveform\n",
        "# import matplotlib.pyplot as plt\n",
        "# import os\n",
        "# from pathlib import Path\n",
        "# from multiprocessing import Pool\n",
        "# import sys\n",
        "# import gc\n",
        "# import gwmat\n",
        "# import bilby\n",
        "# import pandas as pd\n",
        "# import numpy as np\n",
        "# from gwpy.timeseries import TimeSeries as ts\n",
        "\n",
        "# num_processes = os.cpu_count()\n",
        "# num = 20\n",
        "\n",
        "# # Accessing directories\n",
        "\n",
        "# os.makedirs('training', exist_ok=True)\n",
        "# training_data_path = Path(\"training/\")\n",
        "\n",
        "# os.makedirs(training_data_path / 'lensed', exist_ok=True)\n",
        "# os.makedirs(training_data_path / 'unlensed', exist_ok=True)\n",
        "# os.makedirs(training_data_path / 'unlensed_precess', exist_ok=True)\n",
        "# lensed_path = training_data_path / \"lensed\"\n",
        "# unlensed_path = training_data_path / \"unlensed\"\n",
        "# precessed_path = training_data_path / \"unlensed_precess\"\n",
        "\n",
        "# # Creating samples for training data\n",
        "\n",
        "# prior = bilby.core.prior.PriorDict()\n",
        "\n",
        "# prior['Log_Mlz'] = bilby.core.prior.Uniform(minimum = 3, maximum = 5)\n",
        "# prior['yl'] = bilby.core.prior.PowerLaw(alpha = 1, minimum = 0.01, maximum = 1)\n",
        "# prior['phase'] = bilby.core.prior.Uniform(minimum=0.0, maximum=2*np.pi, boundary=\"periodic\")\n",
        "# prior['geocent_time'] = bilby.core.prior.Uniform(minimum=-0.1, maximum=0.1)\n",
        "\n",
        "# prior['mass_1'] = bilby.core.prior.Uniform(minimum=5, maximum=100)  # Adjust range as needed\n",
        "# prior['mass_2'] = bilby.core.prior.Uniform(minimum=5, maximum=100)\n",
        "\n",
        "# prior['a_1'] = bilby.core.prior.Uniform(minimum=0, maximum=1)  # Spin magnitude is between 0 and 1\n",
        "# prior['a_2'] = bilby.core.prior.Uniform(minimum=0, maximum=1)\n",
        "\n",
        "# prior['tilt_1'] = bilby.core.prior.Sine(minimum=0, maximum=np.pi)  # Tilt angles are between 0 and π\n",
        "# prior['tilt_2'] = bilby.core.prior.Sine(minimum=0, maximum=np.pi)\n",
        "\n",
        "# prior['phi_jl'] = bilby.core.prior.Uniform(minimum=0, maximum=2*np.pi)\n",
        "# prior['phi_12'] = bilby.core.prior.Uniform(minimum=0, maximum=2*np.pi)\n",
        "\n",
        "# prior['ra'] = bilby.core.prior.Uniform(minimum=0, maximum=2*np.pi)  # Right ascension\n",
        "# prior['dec'] = bilby.core.prior.Cosine(minimum=-np.pi/2, maximum=np.pi/2)  # Declination\n",
        "\n",
        "# prior['psi'] = bilby.core.prior.Uniform(minimum=0, maximum=np.pi)  # Polarization angle\n",
        "# prior['theta_jn'] = bilby.core.prior.Sine(minimum=0, maximum=np.pi)  # Inclination angle\n",
        "\n",
        "# prior['luminosity_distance'] = bilby.core.prior.PowerLaw(alpha=-2, minimum=10, maximum=5000)\n",
        "\n",
        "# priors = prior.sample(num)\n",
        "\n",
        "# df = list((pd.DataFrame(priors)).iterrows())\n",
        "\n",
        "# param_result = [result[0] for result in map(lambda x: bilby.gw.conversion.convert_to_lal_binary_black_hole_parameters(x[1]), df)]\n",
        "\n",
        "# # Generating training data\n",
        "# def generate_training_qtransform(num):\n",
        "#     param_gen = param_result[num].copy()\n",
        "\n",
        "#     init_params = dict(wf_domain=\"TD\", f_start=15, snr_f_min=20., snr_f_max=None,\n",
        "#                 f_ref=20., sample_rate=2048, delta_t=None, wf_approximant=\"IMRPhenomPv2\",\n",
        "#                 ifo_list = ['H1', 'L1', 'V1'])\n",
        "\n",
        "#     m_lens=np.power(10., param_gen.pop(\"Log_Mlz\"))\n",
        "#     y_lens=param_gen.pop(\"yl\")\n",
        "\n",
        "#     lens_params = dict(m_lens=m_lens, y_lens=y_lens, z_lens=0.,\n",
        "#                     lens_mass_lower_limit=1.e-3, Ff_data=None)\n",
        "\n",
        "#     cbc_params =  param_gen\n",
        "#     if cbc_params['mass_2'] > cbc_params['mass_1']:\n",
        "#          cbc_params['mass_1'], cbc_params['mass_2'] = cbc_params['mass_2'], cbc_params['mass_1']\n",
        "#          print('\\nInversion Done!!!\\n')\n",
        "\n",
        "#     misc_params = dict(rwrap = -0.1, cyclic_time_shift_method = \"gwmat\",\n",
        "#                     taper_hp_hc=True,  hp_hc_extra_padding_at_start=0,\n",
        "#                     make_hp_hc_duration_power_of_2=True,\n",
        "#                     extra_padding_at_start=1, extra_padding_at_end=2,\n",
        "#                     save_data=False, data_outdir = './',\n",
        "#                     data_label=None, data_channel='PyCBC-Injection')\n",
        "\n",
        "#     psd_params = dict(Noise=True, psd_H1=\"O4\", psd_L1=\"O4\", psd_V1=\"O4\",\n",
        "#                     noise_seed=None, is_asd_file=False, psd_f_low=None)\n",
        "\n",
        "#     precession_keys = {'a_1', 'a_2', 'tilt_1', 'tilt_2', 'phi_jl', 'phi_12'}\n",
        "\n",
        "#     # Copy all key-value pairs but set precession-related keys to zero\n",
        "#     no_precession_params = {key: (0 if key in precession_keys else value) for key, value in cbc_params.items()}\n",
        "\n",
        "#     lensing_params = {**init_params, **no_precession_params, **lens_params, **psd_params, **misc_params}\n",
        "\n",
        "#     nolens_params = dict(m_lens=0, y_lens=0, z_lens=0.,\n",
        "#                     lens_mass_lower_limit=1.e-3, Ff_data=None)\n",
        "\n",
        "#     unlensing_params = {**init_params, **no_precession_params, **nolens_params, **psd_params, **misc_params}\n",
        "\n",
        "#     unlensing_precessing_params = {**init_params, **nolens_params, **cbc_params, **psd_params, **misc_params}\n",
        "\n",
        "#     lens_res = gwmat.injection.simulate_injection_with_comprehensive_output(**lensing_params)\n",
        "#     unlens_res = gwmat.injection.simulate_injection_with_comprehensive_output(**unlensing_params)\n",
        "#     unlens_precess_res = gwmat.injection.simulate_injection_with_comprehensive_output(**unlensing_precessing_params)\n",
        "\n",
        "#     wf_lens_h = lens_res['noisy_ifo_signal']['H1']\n",
        "#     wf_unlens_h = unlens_res['noisy_ifo_signal']['H1']\n",
        "#     wf_unlens_precess_h = unlens_precess_res['noisy_ifo_signal']['H1']\n",
        "\n",
        "#     wf_lens_l = lens_res['noisy_ifo_signal']['L1']\n",
        "#     wf_unlens_l = unlens_res['noisy_ifo_signal']['L1']\n",
        "#     wf_unlens_precess_l = unlens_precess_res['noisy_ifo_signal']['L1']\n",
        "\n",
        "#     wf_lens_v = lens_res['noisy_ifo_signal']['V1']\n",
        "#     wf_unlens_v = unlens_res['noisy_ifo_signal']['V1']\n",
        "#     wf_unlens_precess_v = unlens_precess_res['noisy_ifo_signal']['V1']\n",
        "\n",
        "#     if lens_res['matched_filter_snr']['H1'] > 10.0:\n",
        "#         wf_lens_h = ts.from_pycbc(wf_lens_h)\n",
        "#         wf_unlens_h = ts.from_pycbc(wf_unlens_h)\n",
        "#         wf_unlens_precess_h = ts.from_pycbc(wf_unlens_precess_h)\n",
        "\n",
        "#         plt.figure(figsize=(12,8), facecolor=None)\n",
        "#         plt.pcolormesh(wf_lens_h.q_transform(logf=True, norm='mean', outseg=(-1.2, 0.2), frange=(20,512), whiten=False, qrange=(4, 64)))\n",
        "#         plt.axis(\"off\")\n",
        "#         plt.savefig(lensed_path / f\"$M_l$_{m_lens}_y_{y_lens}_h.png\")\n",
        "#         plt.close()\n",
        "\n",
        "#         plt.figure(figsize=(12,8), facecolor=None)\n",
        "#         plt.pcolormesh(wf_unlens_h.q_transform(logf=True, norm='mean', outseg=(-1.2, 0.2), frange=(20,512), whiten=False, qrange=(4, 64)))\n",
        "#         plt.axis(\"off\")\n",
        "#         plt.savefig(unlensed_path / f\"$M_l$_{m_lens}_y_{y_lens}_h.png\")\n",
        "#         plt.close()\n",
        "\n",
        "#         plt.figure(figsize=(12,8), facecolor=None)\n",
        "#         plt.pcolormesh(wf_unlens_precess_h.q_transform(logf=True, norm='mean', outseg=(-1.2, 0.2), frange=(20,512), whiten=False, qrange=(4, 64)))\n",
        "#         plt.axis(\"off\")\n",
        "#         plt.savefig(precessed_path / f\"$M_l$_{m_lens}_y_{y_lens}_h.png\")\n",
        "#         plt.close()\n",
        "\n",
        "#     if lens_res['matched_filter_snr']['L1'] > 10.0:\n",
        "#         wf_lens_l = ts.from_pycbc(wf_lens_l)\n",
        "#         wf_unlens_l = ts.from_pycbc(wf_unlens_l)\n",
        "#         wf_unlens_precess_l = ts.from_pycbc(wf_unlens_precess_l)\n",
        "\n",
        "#         plt.figure(figsize=(12,8), facecolor=None)\n",
        "#         plt.pcolormesh(wf_lens_l.q_transform(logf=True, norm='mean', outseg=(-1.2, 0.2), frange=(20,512), whiten=False, qrange=(4, 64)))\n",
        "#         plt.axis(\"off\")\n",
        "#         plt.savefig(lensed_path / f\"$M_l$_{m_lens}_y_{y_lens}_l.png\")\n",
        "#         plt.close()\n",
        "\n",
        "#         plt.figure(figsize=(12,8), facecolor=None)\n",
        "#         plt.pcolormesh(wf_unlens_l.q_transform(logf=True, norm='mean', outseg=(-1.2, 0.2), frange=(20,512), whiten=False, qrange=(4, 64)))\n",
        "#         plt.axis(\"off\")\n",
        "#         plt.savefig(unlensed_path / f\"$M_l$_{m_lens}_y_{y_lens}_l.png\")\n",
        "#         plt.close()\n",
        "\n",
        "#         plt.figure(figsize=(12,8), facecolor=None)\n",
        "#         plt.pcolormesh(wf_unlens_precess_l.q_transform(logf=True, norm='mean', outseg=(-1.2, 0.2), frange=(20,512), whiten=False, qrange=(4, 64)))\n",
        "#         plt.axis(\"off\")\n",
        "#         plt.savefig(precessed_path / f\"$M_l$_{m_lens}_y_{y_lens}_l.png\")\n",
        "#         plt.close()\n",
        "\n",
        "#     if lens_res['matched_filter_snr']['V1'] > 10.0:\n",
        "#         wf_lens_v = ts.from_pycbc(wf_lens_v)\n",
        "#         wf_unlens_v = ts.from_pycbc(wf_unlens_v)\n",
        "#         wf_unlens_precess_v = ts.from_pycbc(wf_unlens_precess_v)\n",
        "\n",
        "#         plt.figure(figsize=(12,8), facecolor=None)\n",
        "#         plt.pcolormesh(wf_lens_v.q_transform(logf=True, norm='mean', outseg=(-1.2, 0.2), frange=(20,512), whiten=False, qrange=(4, 64)))\n",
        "#         plt.axis(\"off\")\n",
        "#         plt.savefig(lensed_path / f\"$M_l$_{m_lens}_y_{y_lens}_v.png\")\n",
        "#         plt.close()\n",
        "\n",
        "#         plt.figure(figsize=(12,8), facecolor=None)\n",
        "#         plt.pcolormesh(wf_unlens_v.q_transform(logf=True, norm='mean', outseg=(-1.2, 0.2), frange=(20,512), whiten=False, qrange=(4, 64)))\n",
        "#         plt.axis(\"off\")\n",
        "#         plt.savefig(unlensed_path / f\"$M_l$_{m_lens}_y_{y_lens}_v.png\")\n",
        "#         plt.close()\n",
        "\n",
        "#         plt.figure(figsize=(12,8), facecolor=None)\n",
        "#         plt.pcolormesh(wf_unlens_precess_v.q_transform(logf=True, norm='mean', outseg=(-1.2, 0.2), frange=(20,512), whiten=False, qrange=(4, 64)))\n",
        "#         plt.axis(\"off\")\n",
        "#         plt.savefig(precessed_path / f\"$M_l$_{m_lens}_y_{y_lens}_v.png\")\n",
        "#         plt.close()\n",
        "\n",
        "#     del wf_lens_h, wf_unlens_h, wf_unlens_precess_h\n",
        "#     del lens_res, unlens_res, unlens_precess_res\n",
        "#     gc.collect()\n",
        "\n",
        "# num_range = list(range(int(num)))\n",
        "\n",
        "# with Pool(processes=num_processes) as pool:\n",
        "#         qtransforms = pool.map(generate_training_qtransform, num_range)"
      ]
    },
    {
      "cell_type": "code",
      "execution_count": null,
      "metadata": {
        "id": "lNJ5H1jM42D4"
      },
      "outputs": [],
      "source": [
        "# %mv training ../"
      ]
    },
    {
      "cell_type": "code",
      "execution_count": null,
      "metadata": {
        "id": "560TF0Xz-nwt"
      },
      "outputs": [],
      "source": [
        "# %cd ..\n",
        "# !pwd"
      ]
    },
    {
      "cell_type": "code",
      "execution_count": null,
      "metadata": {
        "colab": {
          "base_uri": "https://localhost:8080/"
        },
        "id": "Ag6O53GPgkyE",
        "outputId": "fc7c9dec-92bf-443c-a304-16fe2f7fd90e"
      },
      "outputs": [
        {
          "name": "stdout",
          "output_type": "stream",
          "text": [
            "Mounted at /content/drive\n"
          ]
        }
      ],
      "source": [
        "from google.colab import drive\n",
        "drive.mount('/content/drive')"
      ]
    },
    {
      "cell_type": "code",
      "execution_count": null,
      "metadata": {
        "colab": {
          "base_uri": "https://localhost:8080/",
          "height": 35
        },
        "id": "DQl_FrV4gqYC",
        "outputId": "da96316b-af0b-404d-a81e-65d26ce30557"
      },
      "outputs": [
        {
          "data": {
            "application/vnd.google.colaboratory.intrinsic+json": {
              "type": "string"
            },
            "text/plain": [
              "'/content/drive/My Drive/training'"
            ]
          },
          "execution_count": 10,
          "metadata": {},
          "output_type": "execute_result"
        }
      ],
      "source": [
        "# import shutil\n",
        "# shutil.move(\"training\", \"/content/drive/My Drive/\")"
      ]
    },
    {
      "cell_type": "code",
      "execution_count": null,
      "metadata": {
        "colab": {
          "base_uri": "https://localhost:8080/",
          "height": 35
        },
        "id": "IrwvOTdjhFHk",
        "outputId": "07ab93c9-1d0d-4079-be66-5bcbfc63c4e7"
      },
      "outputs": [
        {
          "data": {
            "application/vnd.google.colaboratory.intrinsic+json": {
              "type": "string"
            },
            "text/plain": [
              "'training'"
            ]
          },
          "execution_count": 26,
          "metadata": {},
          "output_type": "execute_result"
        }
      ],
      "source": [
        "import shutil\n",
        "shutil.copytree(\"/content/drive/My Drive/training\", \"training\")"
      ]
    },
    {
      "cell_type": "code",
      "execution_count": null,
      "metadata": {
        "id": "RYxKGv5P-r3d"
      },
      "outputs": [],
      "source": [
        "import torch\n",
        "import torch.nn as nn\n",
        "import torch.nn.functional as F\n",
        "from torch.utils.data import DataLoader\n",
        "from torchvision import datasets, transforms\n",
        "\n",
        "import os\n",
        "import numpy as np\n",
        "from pathlib import Path\n",
        "import matplotlib.pyplot as plt\n",
        "from typing import Dict, List"
      ]
    },
    {
      "cell_type": "code",
      "execution_count": null,
      "metadata": {
        "id": "qrWS8AAZO3Cs"
      },
      "outputs": [],
      "source": [
        "device = 'cuda' if torch.cuda.is_available() else 'cpu'"
      ]
    },
    {
      "cell_type": "code",
      "execution_count": null,
      "metadata": {
        "id": "A8kXnOoX-wZu"
      },
      "outputs": [],
      "source": [
        "class CustomCNN(nn.Module):\n",
        "    def __init__(self, num_classes=10):\n",
        "        super(CustomCNN, self).__init__()\n",
        "\n",
        "        filter_sizes = [16, 16, 16, 32, 32, 32, 64, 64, 64, 64, 64,\n",
        "                        128, 128, 128, 128, 128, 128, 128, 128, 128, 128]\n",
        "        strides = [(1, 1), (1, 1), (2, 2), (1, 1), (1, 1), (2, 2), (1, 1), (1, 1),\n",
        "                   (1, 1), (1, 1), (2, 2), (1, 1), (1, 1), (1, 1), (1, 1), (2, 2),\n",
        "                   (1, 1), (1, 1), (1, 1), (1, 1), (2, 2)]\n",
        "\n",
        "        self.conv_layers = nn.ModuleList()\n",
        "        in_channels = 3\n",
        "\n",
        "        for out_channels, stride in zip(filter_sizes, strides):\n",
        "            self.conv_layers.append(\n",
        "                nn.Conv2d(in_channels, out_channels, kernel_size=3, stride=stride, padding=1)\n",
        "            )\n",
        "            in_channels = out_channels\n",
        "\n",
        "        self.dropout = nn.Dropout(0.1)\n",
        "        self.flatten = nn.Flatten()\n",
        "        self.fc = nn.Linear(24320, num_classes)\n",
        "\n",
        "    def forward(self, x):\n",
        "        for conv in self.conv_layers:\n",
        "            x = conv(x)\n",
        "            x = F.elu(x)\n",
        "            x = self.dropout(x)\n",
        "\n",
        "        x = self.flatten(x)\n",
        "        x = self.fc(x)\n",
        "        return x"
      ]
    },
    {
      "cell_type": "code",
      "execution_count": null,
      "metadata": {
        "colab": {
          "base_uri": "https://localhost:8080/"
        },
        "id": "AjodtWEB-1b-",
        "outputId": "015d72c8-9e10-4c08-cc6d-1b7909d366da"
      },
      "outputs": [
        {
          "name": "stdout",
          "output_type": "stream",
          "text": [
            "OptimizedModule(\n",
            "  (_orig_mod): CustomCNN(\n",
            "    (conv_layers): ModuleList(\n",
            "      (0): Conv2d(3, 16, kernel_size=(3, 3), stride=(1, 1), padding=(1, 1))\n",
            "      (1): Conv2d(16, 16, kernel_size=(3, 3), stride=(1, 1), padding=(1, 1))\n",
            "      (2): Conv2d(16, 16, kernel_size=(3, 3), stride=(2, 2), padding=(1, 1))\n",
            "      (3): Conv2d(16, 32, kernel_size=(3, 3), stride=(1, 1), padding=(1, 1))\n",
            "      (4): Conv2d(32, 32, kernel_size=(3, 3), stride=(1, 1), padding=(1, 1))\n",
            "      (5): Conv2d(32, 32, kernel_size=(3, 3), stride=(2, 2), padding=(1, 1))\n",
            "      (6): Conv2d(32, 64, kernel_size=(3, 3), stride=(1, 1), padding=(1, 1))\n",
            "      (7-9): 3 x Conv2d(64, 64, kernel_size=(3, 3), stride=(1, 1), padding=(1, 1))\n",
            "      (10): Conv2d(64, 64, kernel_size=(3, 3), stride=(2, 2), padding=(1, 1))\n",
            "      (11): Conv2d(64, 128, kernel_size=(3, 3), stride=(1, 1), padding=(1, 1))\n",
            "      (12-14): 3 x Conv2d(128, 128, kernel_size=(3, 3), stride=(1, 1), padding=(1, 1))\n",
            "      (15): Conv2d(128, 128, kernel_size=(3, 3), stride=(2, 2), padding=(1, 1))\n",
            "      (16-19): 4 x Conv2d(128, 128, kernel_size=(3, 3), stride=(1, 1), padding=(1, 1))\n",
            "      (20): Conv2d(128, 128, kernel_size=(3, 3), stride=(2, 2), padding=(1, 1))\n",
            "    )\n",
            "    (dropout): Dropout(p=0.1, inplace=False)\n",
            "    (flatten): Flatten(start_dim=1, end_dim=-1)\n",
            "    (fc): Linear(in_features=24320, out_features=3, bias=True)\n",
            "  )\n",
            ")\n"
          ]
        }
      ],
      "source": [
        "model = CustomCNN(num_classes=3)\n",
        "model = torch.compile(model)\n",
        "model = model.to(device)\n",
        "loss_fn = torch.nn.CrossEntropyLoss()\n",
        "optimizer = torch.optim.Adam(params=model.parameters(), lr=0.005)\n",
        "print(model)"
      ]
    },
    {
      "cell_type": "code",
      "execution_count": null,
      "metadata": {
        "id": "nZcEa4Up-2wW"
      },
      "outputs": [],
      "source": [
        "data_transform = transforms.Compose([\n",
        "    transforms.Resize(size=(300, 600)),\n",
        "    transforms.ToTensor()\n",
        "])"
      ]
    },
    {
      "cell_type": "code",
      "execution_count": null,
      "metadata": {
        "id": "1hS3tF8I-4ad"
      },
      "outputs": [],
      "source": [
        "train_dir = Path('training')\n",
        "test_dir = Path('testing')"
      ]
    },
    {
      "cell_type": "code",
      "execution_count": null,
      "metadata": {
        "id": "kbyMpSzk-5j2"
      },
      "outputs": [],
      "source": [
        "train_data = datasets.ImageFolder(root = train_dir,\n",
        "                                  transform = data_transform,\n",
        "                                  target_transform = None)"
      ]
    },
    {
      "cell_type": "code",
      "execution_count": null,
      "metadata": {
        "id": "r3NPyDK--6d2"
      },
      "outputs": [],
      "source": [
        "BATCH_SIZE = 10\n",
        "train_dataloader = DataLoader(dataset = train_data,\n",
        "                              batch_size = BATCH_SIZE,\n",
        "                              num_workers = os.cpu_count(),\n",
        "                              shuffle = True)"
      ]
    },
    {
      "cell_type": "code",
      "execution_count": null,
      "metadata": {
        "colab": {
          "base_uri": "https://localhost:8080/"
        },
        "id": "R7zviYVKiGz2",
        "outputId": "4c62b2ca-cfb1-4993-8c9c-4cba0986776f"
      },
      "outputs": [
        {
          "data": {
            "text/plain": [
              "['lensed', 'unlensed', 'unlensed_precess']"
            ]
          },
          "execution_count": 39,
          "metadata": {},
          "output_type": "execute_result"
        }
      ],
      "source": [
        "train_data.classes"
      ]
    },
    {
      "cell_type": "code",
      "execution_count": null,
      "metadata": {
        "colab": {
          "base_uri": "https://localhost:8080/",
          "height": 525
        },
        "id": "rYVB3Wxg--pe",
        "outputId": "7a16d30f-31e5-4205-e394-06ecfc93b543"
      },
      "outputs": [
        {
          "data": {
            "image/png": "[encoded data removed]",
            "text/plain": [
              "<Figure size 1200x800 with 1 Axes>"
            ]
          },
          "metadata": {},
          "output_type": "display_data"
        }
      ],
      "source": [
        "data_iter = iter(train_dataloader)\n",
        "image, label = next(data_iter)\n",
        "image = image[0].permute(1, 2, 0).numpy()\n",
        "plt.figure(figsize=(12,8), facecolor=None)\n",
        "plt.imshow(image)\n",
        "plt.title(f\"{train_data.classes[label[0]]}\")\n",
        "plt.axis(False)\n",
        "plt.show()"
      ]
    },
    {
      "cell_type": "code",
      "execution_count": null,
      "metadata": {
        "colab": {
          "base_uri": "https://localhost:8080/",
          "height": 263
        },
        "id": "WDyCWv5qRRO_",
        "outputId": "054a8e15-08d0-4c94-c8a7-89bba2ae483d"
      },
      "outputs": [
        {
          "name": "stdout",
          "output_type": "stream",
          "text": [
            "Epoch: 0 | Loss: 107734.96033084393\n",
            "Epoch: 10 | Loss: 3.579786843723721\n",
            "Epoch: 20 | Loss: 2.804043995009528\n"
          ]
        },
        {
          "ename": "KeyboardInterrupt",
          "evalue": "",
          "output_type": "error",
          "traceback": [
            "\u001b[0;31m---------------------------------------------------------------------------\u001b[0m",
            "\u001b[0;31mKeyboardInterrupt\u001b[0m                         Traceback (most recent call last)",
            "\u001b[0;32m<ipython-input-47-29168a1c9a35>\u001b[0m in \u001b[0;36m<cell line: 0>\u001b[0;34m()\u001b[0m\n\u001b[1;32m      3\u001b[0m   \u001b[0mtotal_loss\u001b[0m \u001b[0;34m=\u001b[0m \u001b[0;36m0\u001b[0m\u001b[0;34m\u001b[0m\u001b[0;34m\u001b[0m\u001b[0m\n\u001b[1;32m      4\u001b[0m   \u001b[0;32mfor\u001b[0m \u001b[0mbatch\u001b[0m\u001b[0;34m,\u001b[0m \u001b[0;34m(\u001b[0m\u001b[0mx\u001b[0m\u001b[0;34m,\u001b[0m \u001b[0my\u001b[0m\u001b[0;34m)\u001b[0m \u001b[0;32min\u001b[0m \u001b[0menumerate\u001b[0m\u001b[0;34m(\u001b[0m\u001b[0mtrain_dataloader\u001b[0m\u001b[0;34m)\u001b[0m\u001b[0;34m:\u001b[0m\u001b[0;34m\u001b[0m\u001b[0;34m\u001b[0m\u001b[0m\n\u001b[0;32m----> 5\u001b[0;31m       \u001b[0mx\u001b[0m\u001b[0;34m,\u001b[0m \u001b[0my\u001b[0m \u001b[0;34m=\u001b[0m \u001b[0mx\u001b[0m\u001b[0;34m.\u001b[0m\u001b[0mto\u001b[0m\u001b[0;34m(\u001b[0m\u001b[0mdevice\u001b[0m\u001b[0;34m)\u001b[0m\u001b[0;34m,\u001b[0m \u001b[0my\u001b[0m\u001b[0;34m.\u001b[0m\u001b[0mto\u001b[0m\u001b[0;34m(\u001b[0m\u001b[0mdevice\u001b[0m\u001b[0;34m)\u001b[0m\u001b[0;34m\u001b[0m\u001b[0;34m\u001b[0m\u001b[0m\n\u001b[0m\u001b[1;32m      6\u001b[0m       \u001b[0moptimizer\u001b[0m\u001b[0;34m.\u001b[0m\u001b[0mzero_grad\u001b[0m\u001b[0;34m(\u001b[0m\u001b[0;34m)\u001b[0m\u001b[0;34m\u001b[0m\u001b[0;34m\u001b[0m\u001b[0m\n\u001b[1;32m      7\u001b[0m       \u001b[0my_pred\u001b[0m \u001b[0;34m=\u001b[0m \u001b[0mmodel\u001b[0m\u001b[0;34m(\u001b[0m\u001b[0mx\u001b[0m\u001b[0;34m)\u001b[0m\u001b[0;34m\u001b[0m\u001b[0;34m\u001b[0m\u001b[0m\n",
            "\u001b[0;31mKeyboardInterrupt\u001b[0m: "
          ]
        }
      ],
      "source": [
        "model.train()\n",
        "for i in range(50):\n",
        "  total_loss = 0\n",
        "  for batch, (x, y) in enumerate(train_dataloader):\n",
        "      x, y = x.to(device), y.to(device)\n",
        "      optimizer.zero_grad()\n",
        "      y_pred = model(x)\n",
        "      loss = loss_fn(y_pred, y)\n",
        "      total_loss += loss.item()\n",
        "      loss.backward()\n",
        "      optimizer.step()\n",
        "  total_loss = total_loss / len(train_dataloader)\n",
        "  if i % 10 == 0:\n",
        "    print(f\"Epoch: {i} | Loss: {total_loss}\")"
      ]
    },
    {
      "cell_type": "code",
      "execution_count": null,
      "metadata": {
        "colab": {
          "base_uri": "https://localhost:8080/"
        },
        "id": "Xvg6R00w-_tn",
        "outputId": "39dde2d9-dbc8-4cfd-de3d-85bb959c2a65"
      },
      "outputs": [
        {
          "name": "stdout",
          "output_type": "stream",
          "text": [
            "tensor([[-0.0093,  0.0211, -0.0037],\n",
            "        [-0.0093,  0.0211, -0.0037],\n",
            "        [-0.0093,  0.0211, -0.0037],\n",
            "        [-0.0093,  0.0211, -0.0037],\n",
            "        [-0.0093,  0.0211, -0.0037],\n",
            "        [-0.0093,  0.0211, -0.0037],\n",
            "        [-0.0093,  0.0211, -0.0037],\n",
            "        [-0.0093,  0.0211, -0.0037],\n",
            "        [-0.0093,  0.0211, -0.0037],\n",
            "        [-0.0093,  0.0211, -0.0037]], device='cuda:0',\n",
            "       grad_fn=<CompiledFunctionBackward>)\n",
            "tensor([[0.3293, 0.3395, 0.3312],\n",
            "        [0.3293, 0.3395, 0.3312],\n",
            "        [0.3293, 0.3395, 0.3312],\n",
            "        [0.3293, 0.3395, 0.3312],\n",
            "        [0.3293, 0.3395, 0.3312],\n",
            "        [0.3293, 0.3395, 0.3312],\n",
            "        [0.3293, 0.3395, 0.3312],\n",
            "        [0.3293, 0.3395, 0.3312],\n",
            "        [0.3293, 0.3395, 0.3312],\n",
            "        [0.3293, 0.3395, 0.3312]], device='cuda:0', grad_fn=<SoftmaxBackward0>)\n",
            "tensor([1, 1, 1, 1, 1, 1, 1, 1, 1, 1], device='cuda:0')\n",
            "tensor([[-0.0093,  0.0211, -0.0037],\n",
            "        [-0.0093,  0.0211, -0.0037],\n",
            "        [-0.0093,  0.0211, -0.0037],\n",
            "        [-0.0093,  0.0211, -0.0037],\n",
            "        [-0.0093,  0.0211, -0.0037],\n",
            "        [-0.0093,  0.0211, -0.0037],\n",
            "        [-0.0093,  0.0211, -0.0037],\n",
            "        [-0.0093,  0.0211, -0.0037],\n",
            "        [-0.0093,  0.0211, -0.0037],\n",
            "        [-0.0093,  0.0211, -0.0037]], device='cuda:0',\n",
            "       grad_fn=<CompiledFunctionBackward>)\n",
            "tensor([[0.3293, 0.3395, 0.3312],\n",
            "        [0.3293, 0.3395, 0.3312],\n",
            "        [0.3293, 0.3395, 0.3312],\n",
            "        [0.3293, 0.3395, 0.3312],\n",
            "        [0.3293, 0.3395, 0.3312],\n",
            "        [0.3293, 0.3395, 0.3312],\n",
            "        [0.3293, 0.3395, 0.3312],\n",
            "        [0.3293, 0.3395, 0.3312],\n",
            "        [0.3293, 0.3395, 0.3312],\n",
            "        [0.3293, 0.3395, 0.3312]], device='cuda:0', grad_fn=<SoftmaxBackward0>)\n",
            "tensor([1, 1, 1, 1, 1, 1, 1, 1, 1, 1], device='cuda:0')\n",
            "tensor([[-0.0093,  0.0211, -0.0037],\n",
            "        [-0.0093,  0.0211, -0.0037],\n",
            "        [-0.0093,  0.0211, -0.0037],\n",
            "        [-0.0093,  0.0211, -0.0037],\n",
            "        [-0.0093,  0.0211, -0.0037],\n",
            "        [-0.0093,  0.0211, -0.0037],\n",
            "        [-0.0093,  0.0211, -0.0037],\n",
            "        [-0.0093,  0.0211, -0.0037],\n",
            "        [-0.0093,  0.0211, -0.0037],\n",
            "        [-0.0093,  0.0211, -0.0037]], device='cuda:0',\n",
            "       grad_fn=<CompiledFunctionBackward>)\n",
            "tensor([[0.3293, 0.3395, 0.3312],\n",
            "        [0.3293, 0.3395, 0.3312],\n",
            "        [0.3293, 0.3395, 0.3312],\n",
            "        [0.3293, 0.3395, 0.3312],\n",
            "        [0.3293, 0.3395, 0.3312],\n",
            "        [0.3293, 0.3395, 0.3312],\n",
            "        [0.3293, 0.3395, 0.3312],\n",
            "        [0.3293, 0.3395, 0.3312],\n",
            "        [0.3293, 0.3395, 0.3312],\n",
            "        [0.3293, 0.3395, 0.3312]], device='cuda:0', grad_fn=<SoftmaxBackward0>)\n",
            "tensor([1, 1, 1, 1, 1, 1, 1, 1, 1, 1], device='cuda:0')\n",
            "tensor([[-0.0093,  0.0211, -0.0037],\n",
            "        [-0.0093,  0.0211, -0.0037],\n",
            "        [-0.0093,  0.0211, -0.0037],\n",
            "        [-0.0093,  0.0211, -0.0037],\n",
            "        [-0.0093,  0.0211, -0.0037],\n",
            "        [-0.0093,  0.0211, -0.0037],\n",
            "        [-0.0093,  0.0211, -0.0037],\n",
            "        [-0.0093,  0.0211, -0.0037],\n",
            "        [-0.0093,  0.0211, -0.0037],\n",
            "        [-0.0093,  0.0211, -0.0037]], device='cuda:0',\n",
            "       grad_fn=<CompiledFunctionBackward>)\n",
            "tensor([[0.3293, 0.3395, 0.3312],\n",
            "        [0.3293, 0.3395, 0.3312],\n",
            "        [0.3293, 0.3395, 0.3312],\n",
            "        [0.3293, 0.3395, 0.3312],\n",
            "        [0.3293, 0.3395, 0.3312],\n",
            "        [0.3293, 0.3395, 0.3312],\n",
            "        [0.3293, 0.3395, 0.3312],\n",
            "        [0.3293, 0.3395, 0.3312],\n",
            "        [0.3293, 0.3395, 0.3312],\n",
            "        [0.3293, 0.3395, 0.3312]], device='cuda:0', grad_fn=<SoftmaxBackward0>)\n",
            "tensor([1, 1, 1, 1, 1, 1, 1, 1, 1, 1], device='cuda:0')\n",
            "tensor([[-0.0093,  0.0211, -0.0037],\n",
            "        [-0.0093,  0.0211, -0.0037],\n",
            "        [-0.0093,  0.0211, -0.0037],\n",
            "        [-0.0093,  0.0211, -0.0037],\n",
            "        [-0.0093,  0.0211, -0.0037],\n",
            "        [-0.0093,  0.0211, -0.0037],\n",
            "        [-0.0093,  0.0211, -0.0037],\n",
            "        [-0.0093,  0.0211, -0.0037],\n",
            "        [-0.0093,  0.0211, -0.0037],\n",
            "        [-0.0093,  0.0211, -0.0037]], device='cuda:0',\n",
            "       grad_fn=<CompiledFunctionBackward>)\n",
            "tensor([[0.3293, 0.3395, 0.3312],\n",
            "        [0.3293, 0.3395, 0.3312],\n",
            "        [0.3293, 0.3395, 0.3312],\n",
            "        [0.3293, 0.3395, 0.3312],\n",
            "        [0.3293, 0.3395, 0.3312],\n",
            "        [0.3293, 0.3395, 0.3312],\n",
            "        [0.3293, 0.3395, 0.3312],\n",
            "        [0.3293, 0.3395, 0.3312],\n",
            "        [0.3293, 0.3395, 0.3312],\n",
            "        [0.3293, 0.3395, 0.3312]], device='cuda:0', grad_fn=<SoftmaxBackward0>)\n",
            "tensor([1, 1, 1, 1, 1, 1, 1, 1, 1, 1], device='cuda:0')\n",
            "tensor([[-0.0093,  0.0211, -0.0037],\n",
            "        [-0.0093,  0.0211, -0.0037],\n",
            "        [-0.0093,  0.0211, -0.0037],\n",
            "        [-0.0093,  0.0211, -0.0037],\n",
            "        [-0.0093,  0.0211, -0.0037],\n",
            "        [-0.0093,  0.0211, -0.0037],\n",
            "        [-0.0093,  0.0211, -0.0037],\n",
            "        [-0.0093,  0.0211, -0.0037],\n",
            "        [-0.0093,  0.0211, -0.0037],\n",
            "        [-0.0093,  0.0211, -0.0037]], device='cuda:0',\n",
            "       grad_fn=<CompiledFunctionBackward>)\n",
            "tensor([[0.3293, 0.3395, 0.3312],\n",
            "        [0.3293, 0.3395, 0.3312],\n",
            "        [0.3293, 0.3395, 0.3312],\n",
            "        [0.3293, 0.3395, 0.3312],\n",
            "        [0.3293, 0.3395, 0.3312],\n",
            "        [0.3293, 0.3395, 0.3312],\n",
            "        [0.3293, 0.3395, 0.3312],\n",
            "        [0.3293, 0.3395, 0.3312],\n",
            "        [0.3293, 0.3395, 0.3312],\n",
            "        [0.3293, 0.3395, 0.3312]], device='cuda:0', grad_fn=<SoftmaxBackward0>)\n",
            "tensor([1, 1, 1, 1, 1, 1, 1, 1, 1, 1], device='cuda:0')\n",
            "tensor([[-0.0093,  0.0211, -0.0037],\n",
            "        [-0.0093,  0.0211, -0.0037],\n",
            "        [-0.0093,  0.0211, -0.0037],\n",
            "        [-0.0093,  0.0211, -0.0037],\n",
            "        [-0.0093,  0.0211, -0.0037],\n",
            "        [-0.0093,  0.0211, -0.0037],\n",
            "        [-0.0093,  0.0211, -0.0037],\n",
            "        [-0.0093,  0.0211, -0.0037],\n",
            "        [-0.0093,  0.0211, -0.0037],\n",
            "        [-0.0093,  0.0211, -0.0037]], device='cuda:0',\n",
            "       grad_fn=<CompiledFunctionBackward>)\n",
            "tensor([[0.3293, 0.3395, 0.3312],\n",
            "        [0.3293, 0.3395, 0.3312],\n",
            "        [0.3293, 0.3395, 0.3312],\n",
            "        [0.3293, 0.3395, 0.3312],\n",
            "        [0.3293, 0.3395, 0.3312],\n",
            "        [0.3293, 0.3395, 0.3312],\n",
            "        [0.3293, 0.3395, 0.3312],\n",
            "        [0.3293, 0.3395, 0.3312],\n",
            "        [0.3293, 0.3395, 0.3312],\n",
            "        [0.3293, 0.3395, 0.3312]], device='cuda:0', grad_fn=<SoftmaxBackward0>)\n",
            "tensor([1, 1, 1, 1, 1, 1, 1, 1, 1, 1], device='cuda:0')\n",
            "tensor([[-0.0093,  0.0211, -0.0037],\n",
            "        [-0.0093,  0.0211, -0.0037],\n",
            "        [-0.0093,  0.0211, -0.0037],\n",
            "        [-0.0093,  0.0211, -0.0037],\n",
            "        [-0.0093,  0.0211, -0.0037],\n",
            "        [-0.0093,  0.0211, -0.0037],\n",
            "        [-0.0093,  0.0211, -0.0037],\n",
            "        [-0.0093,  0.0211, -0.0037],\n",
            "        [-0.0093,  0.0211, -0.0037],\n",
            "        [-0.0093,  0.0211, -0.0037]], device='cuda:0',\n",
            "       grad_fn=<CompiledFunctionBackward>)\n",
            "tensor([[0.3293, 0.3395, 0.3312],\n",
            "        [0.3293, 0.3395, 0.3312],\n",
            "        [0.3293, 0.3395, 0.3312],\n",
            "        [0.3293, 0.3395, 0.3312],\n",
            "        [0.3293, 0.3395, 0.3312],\n",
            "        [0.3293, 0.3395, 0.3312],\n",
            "        [0.3293, 0.3395, 0.3312],\n",
            "        [0.3293, 0.3395, 0.3312],\n",
            "        [0.3293, 0.3395, 0.3312],\n",
            "        [0.3293, 0.3395, 0.3312]], device='cuda:0', grad_fn=<SoftmaxBackward0>)\n",
            "tensor([1, 1, 1, 1, 1, 1, 1, 1, 1, 1], device='cuda:0')\n",
            "tensor([[-0.0093,  0.0211, -0.0037],\n",
            "        [-0.0093,  0.0211, -0.0037],\n",
            "        [-0.0093,  0.0211, -0.0037],\n",
            "        [-0.0093,  0.0211, -0.0037],\n",
            "        [-0.0093,  0.0211, -0.0037],\n",
            "        [-0.0093,  0.0211, -0.0037],\n",
            "        [-0.0093,  0.0211, -0.0037],\n",
            "        [-0.0093,  0.0211, -0.0037],\n",
            "        [-0.0093,  0.0211, -0.0037],\n",
            "        [-0.0093,  0.0211, -0.0037]], device='cuda:0',\n",
            "       grad_fn=<CompiledFunctionBackward>)\n",
            "tensor([[0.3293, 0.3395, 0.3312],\n",
            "        [0.3293, 0.3395, 0.3312],\n",
            "        [0.3293, 0.3395, 0.3312],\n",
            "        [0.3293, 0.3395, 0.3312],\n",
            "        [0.3293, 0.3395, 0.3312],\n",
            "        [0.3293, 0.3395, 0.3312],\n",
            "        [0.3293, 0.3395, 0.3312],\n",
            "        [0.3293, 0.3395, 0.3312],\n",
            "        [0.3293, 0.3395, 0.3312],\n",
            "        [0.3293, 0.3395, 0.3312]], device='cuda:0', grad_fn=<SoftmaxBackward0>)\n",
            "tensor([1, 1, 1, 1, 1, 1, 1, 1, 1, 1], device='cuda:0')\n",
            "tensor([[-0.0093,  0.0211, -0.0037],\n",
            "        [-0.0093,  0.0211, -0.0037],\n",
            "        [-0.0093,  0.0211, -0.0037],\n",
            "        [-0.0093,  0.0211, -0.0037],\n",
            "        [-0.0093,  0.0211, -0.0037],\n",
            "        [-0.0093,  0.0211, -0.0037],\n",
            "        [-0.0093,  0.0211, -0.0037],\n",
            "        [-0.0093,  0.0211, -0.0037],\n",
            "        [-0.0093,  0.0211, -0.0037],\n",
            "        [-0.0093,  0.0211, -0.0037]], device='cuda:0',\n",
            "       grad_fn=<CompiledFunctionBackward>)\n",
            "tensor([[0.3293, 0.3395, 0.3312],\n",
            "        [0.3293, 0.3395, 0.3312],\n",
            "        [0.3293, 0.3395, 0.3312],\n",
            "        [0.3293, 0.3395, 0.3312],\n",
            "        [0.3293, 0.3395, 0.3312],\n",
            "        [0.3293, 0.3395, 0.3312],\n",
            "        [0.3293, 0.3395, 0.3312],\n",
            "        [0.3293, 0.3395, 0.3312],\n",
            "        [0.3293, 0.3395, 0.3312],\n",
            "        [0.3293, 0.3395, 0.3312]], device='cuda:0', grad_fn=<SoftmaxBackward0>)\n",
            "tensor([1, 1, 1, 1, 1, 1, 1, 1, 1, 1], device='cuda:0')\n",
            "tensor([[-0.0093,  0.0211, -0.0037],\n",
            "        [-0.0093,  0.0211, -0.0037],\n",
            "        [-0.0093,  0.0211, -0.0037],\n",
            "        [-0.0093,  0.0211, -0.0037],\n",
            "        [-0.0093,  0.0211, -0.0037],\n",
            "        [-0.0093,  0.0211, -0.0037],\n",
            "        [-0.0093,  0.0211, -0.0037],\n",
            "        [-0.0093,  0.0211, -0.0037],\n",
            "        [-0.0093,  0.0211, -0.0037],\n",
            "        [-0.0093,  0.0211, -0.0037]], device='cuda:0',\n",
            "       grad_fn=<CompiledFunctionBackward>)\n",
            "tensor([[0.3293, 0.3395, 0.3312],\n",
            "        [0.3293, 0.3395, 0.3312],\n",
            "        [0.3293, 0.3395, 0.3312],\n",
            "        [0.3293, 0.3395, 0.3312],\n",
            "        [0.3293, 0.3395, 0.3312],\n",
            "        [0.3293, 0.3395, 0.3312],\n",
            "        [0.3293, 0.3395, 0.3312],\n",
            "        [0.3293, 0.3395, 0.3312],\n",
            "        [0.3293, 0.3395, 0.3312],\n",
            "        [0.3293, 0.3395, 0.3312]], device='cuda:0', grad_fn=<SoftmaxBackward0>)\n",
            "tensor([1, 1, 1, 1, 1, 1, 1, 1, 1, 1], device='cuda:0')\n",
            "tensor([[-0.0093,  0.0211, -0.0037],\n",
            "        [-0.0093,  0.0211, -0.0037],\n",
            "        [-0.0093,  0.0211, -0.0037],\n",
            "        [-0.0093,  0.0211, -0.0037],\n",
            "        [-0.0093,  0.0211, -0.0037],\n",
            "        [-0.0093,  0.0211, -0.0037],\n",
            "        [-0.0093,  0.0211, -0.0037],\n",
            "        [-0.0093,  0.0211, -0.0037],\n",
            "        [-0.0093,  0.0211, -0.0037],\n",
            "        [-0.0093,  0.0211, -0.0037]], device='cuda:0',\n",
            "       grad_fn=<CompiledFunctionBackward>)\n",
            "tensor([[0.3293, 0.3395, 0.3312],\n",
            "        [0.3293, 0.3395, 0.3312],\n",
            "        [0.3293, 0.3395, 0.3312],\n",
            "        [0.3293, 0.3395, 0.3312],\n",
            "        [0.3293, 0.3395, 0.3312],\n",
            "        [0.3293, 0.3395, 0.3312],\n",
            "        [0.3293, 0.3395, 0.3312],\n",
            "        [0.3293, 0.3395, 0.3312],\n",
            "        [0.3293, 0.3395, 0.3312],\n",
            "        [0.3293, 0.3395, 0.3312]], device='cuda:0', grad_fn=<SoftmaxBackward0>)\n",
            "tensor([1, 1, 1, 1, 1, 1, 1, 1, 1, 1], device='cuda:0')\n",
            "tensor([[-0.0093,  0.0211, -0.0037],\n",
            "        [-0.0093,  0.0211, -0.0037],\n",
            "        [-0.0093,  0.0211, -0.0037],\n",
            "        [-0.0093,  0.0211, -0.0037],\n",
            "        [-0.0093,  0.0211, -0.0037],\n",
            "        [-0.0093,  0.0211, -0.0037],\n",
            "        [-0.0093,  0.0211, -0.0037],\n",
            "        [-0.0093,  0.0211, -0.0037],\n",
            "        [-0.0093,  0.0211, -0.0037],\n",
            "        [-0.0093,  0.0211, -0.0037]], device='cuda:0',\n",
            "       grad_fn=<CompiledFunctionBackward>)\n",
            "tensor([[0.3293, 0.3395, 0.3312],\n",
            "        [0.3293, 0.3395, 0.3312],\n",
            "        [0.3293, 0.3395, 0.3312],\n",
            "        [0.3293, 0.3395, 0.3312],\n",
            "        [0.3293, 0.3395, 0.3312],\n",
            "        [0.3293, 0.3395, 0.3312],\n",
            "        [0.3293, 0.3395, 0.3312],\n",
            "        [0.3293, 0.3395, 0.3312],\n",
            "        [0.3293, 0.3395, 0.3312],\n",
            "        [0.3293, 0.3395, 0.3312]], device='cuda:0', grad_fn=<SoftmaxBackward0>)\n",
            "tensor([1, 1, 1, 1, 1, 1, 1, 1, 1, 1], device='cuda:0')\n",
            "tensor([[-0.0093,  0.0211, -0.0037],\n",
            "        [-0.0093,  0.0211, -0.0037],\n",
            "        [-0.0093,  0.0211, -0.0037],\n",
            "        [-0.0093,  0.0211, -0.0037],\n",
            "        [-0.0093,  0.0211, -0.0037],\n",
            "        [-0.0093,  0.0211, -0.0037],\n",
            "        [-0.0093,  0.0211, -0.0037],\n",
            "        [-0.0093,  0.0211, -0.0037],\n",
            "        [-0.0093,  0.0211, -0.0037],\n",
            "        [-0.0093,  0.0211, -0.0037]], device='cuda:0',\n",
            "       grad_fn=<CompiledFunctionBackward>)\n",
            "tensor([[0.3293, 0.3395, 0.3312],\n",
            "        [0.3293, 0.3395, 0.3312],\n",
            "        [0.3293, 0.3395, 0.3312],\n",
            "        [0.3293, 0.3395, 0.3312],\n",
            "        [0.3293, 0.3395, 0.3312],\n",
            "        [0.3293, 0.3395, 0.3312],\n",
            "        [0.3293, 0.3395, 0.3312],\n",
            "        [0.3293, 0.3395, 0.3312],\n",
            "        [0.3293, 0.3395, 0.3312],\n",
            "        [0.3293, 0.3395, 0.3312]], device='cuda:0', grad_fn=<SoftmaxBackward0>)\n",
            "tensor([1, 1, 1, 1, 1, 1, 1, 1, 1, 1], device='cuda:0')\n",
            "tensor([[-0.0093,  0.0211, -0.0037],\n",
            "        [-0.0093,  0.0211, -0.0037],\n",
            "        [-0.0093,  0.0211, -0.0037],\n",
            "        [-0.0093,  0.0211, -0.0037],\n",
            "        [-0.0093,  0.0211, -0.0037],\n",
            "        [-0.0093,  0.0211, -0.0037],\n",
            "        [-0.0093,  0.0211, -0.0037],\n",
            "        [-0.0093,  0.0211, -0.0037],\n",
            "        [-0.0093,  0.0211, -0.0037],\n",
            "        [-0.0093,  0.0211, -0.0037]], device='cuda:0',\n",
            "       grad_fn=<CompiledFunctionBackward>)\n",
            "tensor([[0.3293, 0.3395, 0.3312],\n",
            "        [0.3293, 0.3395, 0.3312],\n",
            "        [0.3293, 0.3395, 0.3312],\n",
            "        [0.3293, 0.3395, 0.3312],\n",
            "        [0.3293, 0.3395, 0.3312],\n",
            "        [0.3293, 0.3395, 0.3312],\n",
            "        [0.3293, 0.3395, 0.3312],\n",
            "        [0.3293, 0.3395, 0.3312],\n",
            "        [0.3293, 0.3395, 0.3312],\n",
            "        [0.3293, 0.3395, 0.3312]], device='cuda:0', grad_fn=<SoftmaxBackward0>)\n",
            "tensor([1, 1, 1, 1, 1, 1, 1, 1, 1, 1], device='cuda:0')\n",
            "tensor([[-0.0093,  0.0211, -0.0037],\n",
            "        [-0.0093,  0.0211, -0.0037],\n",
            "        [-0.0093,  0.0211, -0.0037],\n",
            "        [-0.0093,  0.0211, -0.0037],\n",
            "        [-0.0093,  0.0211, -0.0037],\n",
            "        [-0.0093,  0.0211, -0.0037],\n",
            "        [-0.0093,  0.0211, -0.0037],\n",
            "        [-0.0093,  0.0211, -0.0037],\n",
            "        [-0.0093,  0.0211, -0.0037],\n",
            "        [-0.0093,  0.0211, -0.0037]], device='cuda:0',\n",
            "       grad_fn=<CompiledFunctionBackward>)\n",
            "tensor([[0.3293, 0.3395, 0.3312],\n",
            "        [0.3293, 0.3395, 0.3312],\n",
            "        [0.3293, 0.3395, 0.3312],\n",
            "        [0.3293, 0.3395, 0.3312],\n",
            "        [0.3293, 0.3395, 0.3312],\n",
            "        [0.3293, 0.3395, 0.3312],\n",
            "        [0.3293, 0.3395, 0.3312],\n",
            "        [0.3293, 0.3395, 0.3312],\n",
            "        [0.3293, 0.3395, 0.3312],\n",
            "        [0.3293, 0.3395, 0.3312]], device='cuda:0', grad_fn=<SoftmaxBackward0>)\n",
            "tensor([1, 1, 1, 1, 1, 1, 1, 1, 1, 1], device='cuda:0')\n",
            "tensor([[-0.0093,  0.0211, -0.0037],\n",
            "        [-0.0093,  0.0211, -0.0037],\n",
            "        [-0.0093,  0.0211, -0.0037],\n",
            "        [-0.0093,  0.0211, -0.0037],\n",
            "        [-0.0093,  0.0211, -0.0037],\n",
            "        [-0.0093,  0.0211, -0.0037],\n",
            "        [-0.0093,  0.0211, -0.0037],\n",
            "        [-0.0093,  0.0211, -0.0037],\n",
            "        [-0.0093,  0.0211, -0.0037],\n",
            "        [-0.0093,  0.0211, -0.0037]], device='cuda:0',\n",
            "       grad_fn=<CompiledFunctionBackward>)\n",
            "tensor([[0.3293, 0.3395, 0.3312],\n",
            "        [0.3293, 0.3395, 0.3312],\n",
            "        [0.3293, 0.3395, 0.3312],\n",
            "        [0.3293, 0.3395, 0.3312],\n",
            "        [0.3293, 0.3395, 0.3312],\n",
            "        [0.3293, 0.3395, 0.3312],\n",
            "        [0.3293, 0.3395, 0.3312],\n",
            "        [0.3293, 0.3395, 0.3312],\n",
            "        [0.3293, 0.3395, 0.3312],\n",
            "        [0.3293, 0.3395, 0.3312]], device='cuda:0', grad_fn=<SoftmaxBackward0>)\n",
            "tensor([1, 1, 1, 1, 1, 1, 1, 1, 1, 1], device='cuda:0')\n",
            "tensor([[-0.0093,  0.0211, -0.0037],\n",
            "        [-0.0093,  0.0211, -0.0037],\n",
            "        [-0.0093,  0.0211, -0.0037],\n",
            "        [-0.0093,  0.0211, -0.0037],\n",
            "        [-0.0093,  0.0211, -0.0037],\n",
            "        [-0.0093,  0.0211, -0.0037],\n",
            "        [-0.0093,  0.0211, -0.0037],\n",
            "        [-0.0093,  0.0211, -0.0037],\n",
            "        [-0.0093,  0.0211, -0.0037],\n",
            "        [-0.0093,  0.0211, -0.0037]], device='cuda:0',\n",
            "       grad_fn=<CompiledFunctionBackward>)\n",
            "tensor([[0.3293, 0.3395, 0.3312],\n",
            "        [0.3293, 0.3395, 0.3312],\n",
            "        [0.3293, 0.3395, 0.3312],\n",
            "        [0.3293, 0.3395, 0.3312],\n",
            "        [0.3293, 0.3395, 0.3312],\n",
            "        [0.3293, 0.3395, 0.3312],\n",
            "        [0.3293, 0.3395, 0.3312],\n",
            "        [0.3293, 0.3395, 0.3312],\n",
            "        [0.3293, 0.3395, 0.3312],\n",
            "        [0.3293, 0.3395, 0.3312]], device='cuda:0', grad_fn=<SoftmaxBackward0>)\n",
            "tensor([1, 1, 1, 1, 1, 1, 1, 1, 1, 1], device='cuda:0')\n"
          ]
        }
      ],
      "source": [
        "model.eval()\n",
        "for i, (x, y) in enumerate(train_dataloader):\n",
        "    x, y = x.to(device), y.to(device)\n",
        "    y_pred = model(x)\n",
        "    print(y_pred)\n",
        "    print(torch.softmax(y_pred, dim = 1))\n",
        "    print(torch.softmax(y_pred, dim = 1).argmax(dim = 1))"
      ]
    },
    {
      "cell_type": "markdown",
      "metadata": {
        "id": "_qgabg56jeBJ"
      },
      "source": [
        "# Using Tensorflow"
      ]
    },
    {
      "cell_type": "code",
      "execution_count": null,
      "metadata": {
        "id": "U9bV5SuYQsAc"
      },
      "outputs": [],
      "source": [
        "import tensorflow as tf\n",
        "from tensorflow import keras\n",
        "from tensorflow.keras import layers\n",
        "import numpy as np\n",
        "import os\n",
        "from pathlib import Path"
      ]
    },
    {
      "cell_type": "code",
      "execution_count": null,
      "metadata": {
        "id": "aSJ75ID1kEFI"
      },
      "outputs": [],
      "source": [
        "class CustomCNN(keras.Model):\n",
        "    def __init__(self, num_classes=3):\n",
        "        super(CustomCNN, self).__init__()\n",
        "\n",
        "        filter_sizes = [16, 16, 16, 32, 32, 32, 64, 64, 64, 64, 64,\n",
        "                        128, 128, 128, 128, 128, 128, 128, 128, 128, 128]\n",
        "        strides = [(1, 1), (1, 1), (2, 2), (1, 1), (1, 1), (2, 2), (1, 1), (1, 1),\n",
        "                   (1, 1), (1, 1), (2, 2), (1, 1), (1, 1), (1, 1), (1, 1), (2, 2),\n",
        "                   (1, 1), (1, 1), (1, 1), (1, 1), (2, 2)]\n",
        "\n",
        "        self.conv_layers = []\n",
        "        in_channels = 3\n",
        "\n",
        "        for out_channels, stride in zip(filter_sizes, strides):\n",
        "            self.conv_layers.append(\n",
        "                layers.Conv2D(filters=out_channels, kernel_size=3, strides=stride,\n",
        "                              padding=\"same\", activation=\"elu\")  # ELU activation added\n",
        "            )\n",
        "            in_channels = out_channels  # Update input channels for the next layer\n",
        "\n",
        "        self.dropout = layers.Dropout(0.1)\n",
        "        self.flatten = layers.Flatten()\n",
        "        self.fc1 = layers.Dense(100, activation=\"elu\")  # ELU activation added\n",
        "        self.fc2 = layers.Dense(num_classes, activation=None)  # Keep logits for loss function\n",
        "\n",
        "    def call(self, inputs, training=False):\n",
        "        x = inputs\n",
        "        for conv in self.conv_layers:\n",
        "            x = conv(x)\n",
        "            x = self.dropout(x, training=training)\n",
        "\n",
        "        x = self.flatten(x)\n",
        "        x = self.fc1(x)\n",
        "        x = self.fc2(x)\n",
        "        return x\n",
        "\n",
        "# Create an instance of the model\n",
        "model = CustomCNN(num_classes=3)\n",
        "\n",
        "# Compile the model\n",
        "model.compile(optimizer=keras.optimizers.Adam(learning_rate=0.005),\n",
        "              loss=keras.losses.SparseCategoricalCrossentropy(from_logits=True),\n",
        "              metrics=['accuracy'])"
      ]
    },
    {
      "cell_type": "code",
      "execution_count": null,
      "metadata": {
        "colab": {
          "base_uri": "https://localhost:8080/"
        },
        "id": "xeZy9lNmkJDf",
        "outputId": "e219c4e6-1846-4802-cdf6-5bf738b7f7c9"
      },
      "outputs": [
        {
          "name": "stdout",
          "output_type": "stream",
          "text": [
            "Found 180 images belonging to 3 classes.\n"
          ]
        }
      ],
      "source": [
        "# Data Preprocessing\n",
        "data_dir = Path(\"training\")  # Root directory of the dataset\n",
        "\n",
        "data_generator = keras.preprocessing.image.ImageDataGenerator(\n",
        "    rescale=1./255  # Normalize images\n",
        ")\n",
        "\n",
        "train_data = data_generator.flow_from_directory(\n",
        "    directory=data_dir,\n",
        "    target_size=(300, 600),  # Resize images\n",
        "    batch_size=10,\n",
        "    class_mode='sparse'  # Sparse labels for integer-based classification\n",
        ")"
      ]
    },
    {
      "cell_type": "code",
      "execution_count": null,
      "metadata": {
        "colab": {
          "base_uri": "https://localhost:8080/"
        },
        "id": "0zA-F7VNkNbH",
        "outputId": "370f2c2b-777f-4225-8f89-1e1f82b15fdb"
      },
      "outputs": [
        {
          "name": "stdout",
          "output_type": "stream",
          "text": [
            "Epoch 0 | Loss: 52966.2988\n",
            "Epoch 10 | Loss: 4581.2527\n",
            "Epoch 20 | Loss: 2348.7943\n",
            "Epoch 30 | Loss: 1579.5900\n",
            "Epoch 40 | Loss: 1190.0606\n"
          ]
        }
      ],
      "source": [
        "EPOCHS =100\n",
        "for epoch in range(EPOCHS):\n",
        "    total_loss = 0\n",
        "    num_batches = 0\n",
        "\n",
        "    for x, y in train_data:\n",
        "        loss = model.train_on_batch(x, y)\n",
        "        total_loss += loss[0]  # loss[0] contains the loss value\n",
        "        num_batches += 1\n",
        "\n",
        "        # Stop iteration once all training data has been processed in this epoch\n",
        "        if num_batches >= len(train_data):\n",
        "            break\n",
        "\n",
        "    avg_loss = total_loss / num_batches\n",
        "    if epoch % 10 == 0:\n",
        "        print(f\"Epoch {epoch} | Loss: {avg_loss:.4f}\")"
      ]
    },
    {
      "cell_type": "code",
      "execution_count": null,
      "metadata": {
        "colab": {
          "base_uri": "https://localhost:8080/",
          "height": 945
        },
        "id": "7YuXYw6nkRpO",
        "outputId": "71a9d3dd-6a82-4ca3-c344-e292ccb2167e"
      },
      "outputs": [
        {
          "data": {
            "text/html": [
              "<pre style=\"white-space:pre;overflow-x:auto;line-height:normal;font-family:Menlo,'DejaVu Sans Mono',consolas,'Courier New',monospace\"><span style=\"font-weight: bold\">Model: \"custom_cnn_1\"</span>\n",
              "</pre>\n"
            ],
            "text/plain": [
              "\u001b[1mModel: \"custom_cnn_1\"\u001b[0m\n"
            ]
          },
          "metadata": {},
          "output_type": "display_data"
        },
        {
          "data": {
            "text/html": [
              "<pre style=\"white-space:pre;overflow-x:auto;line-height:normal;font-family:Menlo,'DejaVu Sans Mono',consolas,'Courier New',monospace\">┏━━━━━━━━━━━━━━━━━━━━━━━━━━━━━━━━━━━━━━┳━━━━━━━━━━━━━━━━━━━━━━━━━━━━━┳━━━━━━━━━━━━━━━━━┓\n",
              "┃<span style=\"font-weight: bold\"> Layer (type)                         </span>┃<span style=\"font-weight: bold\"> Output Shape                </span>┃<span style=\"font-weight: bold\">         Param # </span>┃\n",
              "┡━━━━━━━━━━━━━━━━━━━━━━━━━━━━━━━━━━━━━━╇━━━━━━━━━━━━━━━━━━━━━━━━━━━━━╇━━━━━━━━━━━━━━━━━┩\n",
              "│ conv2d_21 (<span style=\"color: #0087ff; text-decoration-color: #0087ff\">Conv2D</span>)                   │ (<span style=\"color: #00af00; text-decoration-color: #00af00\">10</span>, <span style=\"color: #00af00; text-decoration-color: #00af00\">300</span>, <span style=\"color: #00af00; text-decoration-color: #00af00\">600</span>, <span style=\"color: #00af00; text-decoration-color: #00af00\">16</span>)          │             <span style=\"color: #00af00; text-decoration-color: #00af00\">448</span> │\n",
              "├──────────────────────────────────────┼─────────────────────────────┼─────────────────┤\n",
              "│ conv2d_22 (<span style=\"color: #0087ff; text-decoration-color: #0087ff\">Conv2D</span>)                   │ (<span style=\"color: #00af00; text-decoration-color: #00af00\">10</span>, <span style=\"color: #00af00; text-decoration-color: #00af00\">300</span>, <span style=\"color: #00af00; text-decoration-color: #00af00\">600</span>, <span style=\"color: #00af00; text-decoration-color: #00af00\">16</span>)          │           <span style=\"color: #00af00; text-decoration-color: #00af00\">2,320</span> │\n",
              "├──────────────────────────────────────┼─────────────────────────────┼─────────────────┤\n",
              "│ conv2d_23 (<span style=\"color: #0087ff; text-decoration-color: #0087ff\">Conv2D</span>)                   │ (<span style=\"color: #00af00; text-decoration-color: #00af00\">10</span>, <span style=\"color: #00af00; text-decoration-color: #00af00\">150</span>, <span style=\"color: #00af00; text-decoration-color: #00af00\">300</span>, <span style=\"color: #00af00; text-decoration-color: #00af00\">16</span>)          │           <span style=\"color: #00af00; text-decoration-color: #00af00\">2,320</span> │\n",
              "├──────────────────────────────────────┼─────────────────────────────┼─────────────────┤\n",
              "│ conv2d_24 (<span style=\"color: #0087ff; text-decoration-color: #0087ff\">Conv2D</span>)                   │ (<span style=\"color: #00af00; text-decoration-color: #00af00\">10</span>, <span style=\"color: #00af00; text-decoration-color: #00af00\">150</span>, <span style=\"color: #00af00; text-decoration-color: #00af00\">300</span>, <span style=\"color: #00af00; text-decoration-color: #00af00\">32</span>)          │           <span style=\"color: #00af00; text-decoration-color: #00af00\">4,640</span> │\n",
              "├──────────────────────────────────────┼─────────────────────────────┼─────────────────┤\n",
              "│ conv2d_25 (<span style=\"color: #0087ff; text-decoration-color: #0087ff\">Conv2D</span>)                   │ (<span style=\"color: #00af00; text-decoration-color: #00af00\">10</span>, <span style=\"color: #00af00; text-decoration-color: #00af00\">150</span>, <span style=\"color: #00af00; text-decoration-color: #00af00\">300</span>, <span style=\"color: #00af00; text-decoration-color: #00af00\">32</span>)          │           <span style=\"color: #00af00; text-decoration-color: #00af00\">9,248</span> │\n",
              "├──────────────────────────────────────┼─────────────────────────────┼─────────────────┤\n",
              "│ conv2d_26 (<span style=\"color: #0087ff; text-decoration-color: #0087ff\">Conv2D</span>)                   │ (<span style=\"color: #00af00; text-decoration-color: #00af00\">10</span>, <span style=\"color: #00af00; text-decoration-color: #00af00\">75</span>, <span style=\"color: #00af00; text-decoration-color: #00af00\">150</span>, <span style=\"color: #00af00; text-decoration-color: #00af00\">32</span>)           │           <span style=\"color: #00af00; text-decoration-color: #00af00\">9,248</span> │\n",
              "├──────────────────────────────────────┼─────────────────────────────┼─────────────────┤\n",
              "│ conv2d_27 (<span style=\"color: #0087ff; text-decoration-color: #0087ff\">Conv2D</span>)                   │ (<span style=\"color: #00af00; text-decoration-color: #00af00\">10</span>, <span style=\"color: #00af00; text-decoration-color: #00af00\">75</span>, <span style=\"color: #00af00; text-decoration-color: #00af00\">150</span>, <span style=\"color: #00af00; text-decoration-color: #00af00\">64</span>)           │          <span style=\"color: #00af00; text-decoration-color: #00af00\">18,496</span> │\n",
              "├──────────────────────────────────────┼─────────────────────────────┼─────────────────┤\n",
              "│ conv2d_28 (<span style=\"color: #0087ff; text-decoration-color: #0087ff\">Conv2D</span>)                   │ (<span style=\"color: #00af00; text-decoration-color: #00af00\">10</span>, <span style=\"color: #00af00; text-decoration-color: #00af00\">75</span>, <span style=\"color: #00af00; text-decoration-color: #00af00\">150</span>, <span style=\"color: #00af00; text-decoration-color: #00af00\">64</span>)           │          <span style=\"color: #00af00; text-decoration-color: #00af00\">36,928</span> │\n",
              "├──────────────────────────────────────┼─────────────────────────────┼─────────────────┤\n",
              "│ conv2d_29 (<span style=\"color: #0087ff; text-decoration-color: #0087ff\">Conv2D</span>)                   │ (<span style=\"color: #00af00; text-decoration-color: #00af00\">10</span>, <span style=\"color: #00af00; text-decoration-color: #00af00\">75</span>, <span style=\"color: #00af00; text-decoration-color: #00af00\">150</span>, <span style=\"color: #00af00; text-decoration-color: #00af00\">64</span>)           │          <span style=\"color: #00af00; text-decoration-color: #00af00\">36,928</span> │\n",
              "├──────────────────────────────────────┼─────────────────────────────┼─────────────────┤\n",
              "│ conv2d_30 (<span style=\"color: #0087ff; text-decoration-color: #0087ff\">Conv2D</span>)                   │ (<span style=\"color: #00af00; text-decoration-color: #00af00\">10</span>, <span style=\"color: #00af00; text-decoration-color: #00af00\">75</span>, <span style=\"color: #00af00; text-decoration-color: #00af00\">150</span>, <span style=\"color: #00af00; text-decoration-color: #00af00\">64</span>)           │          <span style=\"color: #00af00; text-decoration-color: #00af00\">36,928</span> │\n",
              "├──────────────────────────────────────┼─────────────────────────────┼─────────────────┤\n",
              "│ conv2d_31 (<span style=\"color: #0087ff; text-decoration-color: #0087ff\">Conv2D</span>)                   │ (<span style=\"color: #00af00; text-decoration-color: #00af00\">10</span>, <span style=\"color: #00af00; text-decoration-color: #00af00\">38</span>, <span style=\"color: #00af00; text-decoration-color: #00af00\">75</span>, <span style=\"color: #00af00; text-decoration-color: #00af00\">64</span>)            │          <span style=\"color: #00af00; text-decoration-color: #00af00\">36,928</span> │\n",
              "├──────────────────────────────────────┼─────────────────────────────┼─────────────────┤\n",
              "│ conv2d_32 (<span style=\"color: #0087ff; text-decoration-color: #0087ff\">Conv2D</span>)                   │ (<span style=\"color: #00af00; text-decoration-color: #00af00\">10</span>, <span style=\"color: #00af00; text-decoration-color: #00af00\">38</span>, <span style=\"color: #00af00; text-decoration-color: #00af00\">75</span>, <span style=\"color: #00af00; text-decoration-color: #00af00\">128</span>)           │          <span style=\"color: #00af00; text-decoration-color: #00af00\">73,856</span> │\n",
              "├──────────────────────────────────────┼─────────────────────────────┼─────────────────┤\n",
              "│ conv2d_33 (<span style=\"color: #0087ff; text-decoration-color: #0087ff\">Conv2D</span>)                   │ (<span style=\"color: #00af00; text-decoration-color: #00af00\">10</span>, <span style=\"color: #00af00; text-decoration-color: #00af00\">38</span>, <span style=\"color: #00af00; text-decoration-color: #00af00\">75</span>, <span style=\"color: #00af00; text-decoration-color: #00af00\">128</span>)           │         <span style=\"color: #00af00; text-decoration-color: #00af00\">147,584</span> │\n",
              "├──────────────────────────────────────┼─────────────────────────────┼─────────────────┤\n",
              "│ conv2d_34 (<span style=\"color: #0087ff; text-decoration-color: #0087ff\">Conv2D</span>)                   │ (<span style=\"color: #00af00; text-decoration-color: #00af00\">10</span>, <span style=\"color: #00af00; text-decoration-color: #00af00\">38</span>, <span style=\"color: #00af00; text-decoration-color: #00af00\">75</span>, <span style=\"color: #00af00; text-decoration-color: #00af00\">128</span>)           │         <span style=\"color: #00af00; text-decoration-color: #00af00\">147,584</span> │\n",
              "├──────────────────────────────────────┼─────────────────────────────┼─────────────────┤\n",
              "│ conv2d_35 (<span style=\"color: #0087ff; text-decoration-color: #0087ff\">Conv2D</span>)                   │ (<span style=\"color: #00af00; text-decoration-color: #00af00\">10</span>, <span style=\"color: #00af00; text-decoration-color: #00af00\">38</span>, <span style=\"color: #00af00; text-decoration-color: #00af00\">75</span>, <span style=\"color: #00af00; text-decoration-color: #00af00\">128</span>)           │         <span style=\"color: #00af00; text-decoration-color: #00af00\">147,584</span> │\n",
              "├──────────────────────────────────────┼─────────────────────────────┼─────────────────┤\n",
              "│ conv2d_36 (<span style=\"color: #0087ff; text-decoration-color: #0087ff\">Conv2D</span>)                   │ (<span style=\"color: #00af00; text-decoration-color: #00af00\">10</span>, <span style=\"color: #00af00; text-decoration-color: #00af00\">19</span>, <span style=\"color: #00af00; text-decoration-color: #00af00\">38</span>, <span style=\"color: #00af00; text-decoration-color: #00af00\">128</span>)           │         <span style=\"color: #00af00; text-decoration-color: #00af00\">147,584</span> │\n",
              "├──────────────────────────────────────┼─────────────────────────────┼─────────────────┤\n",
              "│ conv2d_37 (<span style=\"color: #0087ff; text-decoration-color: #0087ff\">Conv2D</span>)                   │ (<span style=\"color: #00af00; text-decoration-color: #00af00\">10</span>, <span style=\"color: #00af00; text-decoration-color: #00af00\">19</span>, <span style=\"color: #00af00; text-decoration-color: #00af00\">38</span>, <span style=\"color: #00af00; text-decoration-color: #00af00\">128</span>)           │         <span style=\"color: #00af00; text-decoration-color: #00af00\">147,584</span> │\n",
              "├──────────────────────────────────────┼─────────────────────────────┼─────────────────┤\n",
              "│ conv2d_38 (<span style=\"color: #0087ff; text-decoration-color: #0087ff\">Conv2D</span>)                   │ (<span style=\"color: #00af00; text-decoration-color: #00af00\">10</span>, <span style=\"color: #00af00; text-decoration-color: #00af00\">19</span>, <span style=\"color: #00af00; text-decoration-color: #00af00\">38</span>, <span style=\"color: #00af00; text-decoration-color: #00af00\">128</span>)           │         <span style=\"color: #00af00; text-decoration-color: #00af00\">147,584</span> │\n",
              "├──────────────────────────────────────┼─────────────────────────────┼─────────────────┤\n",
              "│ conv2d_39 (<span style=\"color: #0087ff; text-decoration-color: #0087ff\">Conv2D</span>)                   │ (<span style=\"color: #00af00; text-decoration-color: #00af00\">10</span>, <span style=\"color: #00af00; text-decoration-color: #00af00\">19</span>, <span style=\"color: #00af00; text-decoration-color: #00af00\">38</span>, <span style=\"color: #00af00; text-decoration-color: #00af00\">128</span>)           │         <span style=\"color: #00af00; text-decoration-color: #00af00\">147,584</span> │\n",
              "├──────────────────────────────────────┼─────────────────────────────┼─────────────────┤\n",
              "│ conv2d_40 (<span style=\"color: #0087ff; text-decoration-color: #0087ff\">Conv2D</span>)                   │ (<span style=\"color: #00af00; text-decoration-color: #00af00\">10</span>, <span style=\"color: #00af00; text-decoration-color: #00af00\">19</span>, <span style=\"color: #00af00; text-decoration-color: #00af00\">38</span>, <span style=\"color: #00af00; text-decoration-color: #00af00\">128</span>)           │         <span style=\"color: #00af00; text-decoration-color: #00af00\">147,584</span> │\n",
              "├──────────────────────────────────────┼─────────────────────────────┼─────────────────┤\n",
              "│ conv2d_41 (<span style=\"color: #0087ff; text-decoration-color: #0087ff\">Conv2D</span>)                   │ (<span style=\"color: #00af00; text-decoration-color: #00af00\">10</span>, <span style=\"color: #00af00; text-decoration-color: #00af00\">10</span>, <span style=\"color: #00af00; text-decoration-color: #00af00\">19</span>, <span style=\"color: #00af00; text-decoration-color: #00af00\">128</span>)           │         <span style=\"color: #00af00; text-decoration-color: #00af00\">147,584</span> │\n",
              "├──────────────────────────────────────┼─────────────────────────────┼─────────────────┤\n",
              "│ dropout_1 (<span style=\"color: #0087ff; text-decoration-color: #0087ff\">Dropout</span>)                  │ ?                           │               <span style=\"color: #00af00; text-decoration-color: #00af00\">0</span> │\n",
              "├──────────────────────────────────────┼─────────────────────────────┼─────────────────┤\n",
              "│ flatten_1 (<span style=\"color: #0087ff; text-decoration-color: #0087ff\">Flatten</span>)                  │ (<span style=\"color: #00af00; text-decoration-color: #00af00\">10</span>, <span style=\"color: #00af00; text-decoration-color: #00af00\">24320</span>)                 │               <span style=\"color: #00af00; text-decoration-color: #00af00\">0</span> │\n",
              "├──────────────────────────────────────┼─────────────────────────────┼─────────────────┤\n",
              "│ dense_1 (<span style=\"color: #0087ff; text-decoration-color: #0087ff\">Dense</span>)                      │ (<span style=\"color: #00af00; text-decoration-color: #00af00\">10</span>, <span style=\"color: #00af00; text-decoration-color: #00af00\">100</span>)                   │       <span style=\"color: #00af00; text-decoration-color: #00af00\">2,432,100</span> │\n",
              "├──────────────────────────────────────┼─────────────────────────────┼─────────────────┤\n",
              "│ dense_2 (<span style=\"color: #0087ff; text-decoration-color: #0087ff\">Dense</span>)                      │ (<span style=\"color: #00af00; text-decoration-color: #00af00\">10</span>, <span style=\"color: #00af00; text-decoration-color: #00af00\">3</span>)                     │             <span style=\"color: #00af00; text-decoration-color: #00af00\">303</span> │\n",
              "└──────────────────────────────────────┴─────────────────────────────┴─────────────────┘\n",
              "</pre>\n"
            ],
            "text/plain": [
              "┏━━━━━━━━━━━━━━━━━━━━━━━━━━━━━━━━━━━━━━┳━━━━━━━━━━━━━━━━━━━━━━━━━━━━━┳━━━━━━━━━━━━━━━━━┓\n",
              "┃\u001b[1m \u001b[0m\u001b[1mLayer (type)                        \u001b[0m\u001b[1m \u001b[0m┃\u001b[1m \u001b[0m\u001b[1mOutput Shape               \u001b[0m\u001b[1m \u001b[0m┃\u001b[1m \u001b[0m\u001b[1m        Param #\u001b[0m\u001b[1m \u001b[0m┃\n",
              "┡━━━━━━━━━━━━━━━━━━━━━━━━━━━━━━━━━━━━━━╇━━━━━━━━━━━━━━━━━━━━━━━━━━━━━╇━━━━━━━━━━━━━━━━━┩\n",
              "│ conv2d_21 (\u001b[38;5;33mConv2D\u001b[0m)                   │ (\u001b[38;5;34m10\u001b[0m, \u001b[38;5;34m300\u001b[0m, \u001b[38;5;34m600\u001b[0m, \u001b[38;5;34m16\u001b[0m)          │             \u001b[38;5;34m448\u001b[0m │\n",
              "├──────────────────────────────────────┼─────────────────────────────┼─────────────────┤\n",
              "│ conv2d_22 (\u001b[38;5;33mConv2D\u001b[0m)                   │ (\u001b[38;5;34m10\u001b[0m, \u001b[38;5;34m300\u001b[0m, \u001b[38;5;34m600\u001b[0m, \u001b[38;5;34m16\u001b[0m)          │           \u001b[38;5;34m2,320\u001b[0m │\n",
              "├──────────────────────────────────────┼─────────────────────────────┼─────────────────┤\n",
              "│ conv2d_23 (\u001b[38;5;33mConv2D\u001b[0m)                   │ (\u001b[38;5;34m10\u001b[0m, \u001b[38;5;34m150\u001b[0m, \u001b[38;5;34m300\u001b[0m, \u001b[38;5;34m16\u001b[0m)          │           \u001b[38;5;34m2,320\u001b[0m │\n",
              "├──────────────────────────────────────┼─────────────────────────────┼─────────────────┤\n",
              "│ conv2d_24 (\u001b[38;5;33mConv2D\u001b[0m)                   │ (\u001b[38;5;34m10\u001b[0m, \u001b[38;5;34m150\u001b[0m, \u001b[38;5;34m300\u001b[0m, \u001b[38;5;34m32\u001b[0m)          │           \u001b[38;5;34m4,640\u001b[0m │\n",
              "├──────────────────────────────────────┼─────────────────────────────┼─────────────────┤\n",
              "│ conv2d_25 (\u001b[38;5;33mConv2D\u001b[0m)                   │ (\u001b[38;5;34m10\u001b[0m, \u001b[38;5;34m150\u001b[0m, \u001b[38;5;34m300\u001b[0m, \u001b[38;5;34m32\u001b[0m)          │           \u001b[38;5;34m9,248\u001b[0m │\n",
              "├──────────────────────────────────────┼─────────────────────────────┼─────────────────┤\n",
              "│ conv2d_26 (\u001b[38;5;33mConv2D\u001b[0m)                   │ (\u001b[38;5;34m10\u001b[0m, \u001b[38;5;34m75\u001b[0m, \u001b[38;5;34m150\u001b[0m, \u001b[38;5;34m32\u001b[0m)           │           \u001b[38;5;34m9,248\u001b[0m │\n",
              "├──────────────────────────────────────┼─────────────────────────────┼─────────────────┤\n",
              "│ conv2d_27 (\u001b[38;5;33mConv2D\u001b[0m)                   │ (\u001b[38;5;34m10\u001b[0m, \u001b[38;5;34m75\u001b[0m, \u001b[38;5;34m150\u001b[0m, \u001b[38;5;34m64\u001b[0m)           │          \u001b[38;5;34m18,496\u001b[0m │\n",
              "├──────────────────────────────────────┼─────────────────────────────┼─────────────────┤\n",
              "│ conv2d_28 (\u001b[38;5;33mConv2D\u001b[0m)                   │ (\u001b[38;5;34m10\u001b[0m, \u001b[38;5;34m75\u001b[0m, \u001b[38;5;34m150\u001b[0m, \u001b[38;5;34m64\u001b[0m)           │          \u001b[38;5;34m36,928\u001b[0m │\n",
              "├──────────────────────────────────────┼─────────────────────────────┼─────────────────┤\n",
              "│ conv2d_29 (\u001b[38;5;33mConv2D\u001b[0m)                   │ (\u001b[38;5;34m10\u001b[0m, \u001b[38;5;34m75\u001b[0m, \u001b[38;5;34m150\u001b[0m, \u001b[38;5;34m64\u001b[0m)           │          \u001b[38;5;34m36,928\u001b[0m │\n",
              "├──────────────────────────────────────┼─────────────────────────────┼─────────────────┤\n",
              "│ conv2d_30 (\u001b[38;5;33mConv2D\u001b[0m)                   │ (\u001b[38;5;34m10\u001b[0m, \u001b[38;5;34m75\u001b[0m, \u001b[38;5;34m150\u001b[0m, \u001b[38;5;34m64\u001b[0m)           │          \u001b[38;5;34m36,928\u001b[0m │\n",
              "├──────────────────────────────────────┼─────────────────────────────┼─────────────────┤\n",
              "│ conv2d_31 (\u001b[38;5;33mConv2D\u001b[0m)                   │ (\u001b[38;5;34m10\u001b[0m, \u001b[38;5;34m38\u001b[0m, \u001b[38;5;34m75\u001b[0m, \u001b[38;5;34m64\u001b[0m)            │          \u001b[38;5;34m36,928\u001b[0m │\n",
              "├──────────────────────────────────────┼─────────────────────────────┼─────────────────┤\n",
              "│ conv2d_32 (\u001b[38;5;33mConv2D\u001b[0m)                   │ (\u001b[38;5;34m10\u001b[0m, \u001b[38;5;34m38\u001b[0m, \u001b[38;5;34m75\u001b[0m, \u001b[38;5;34m128\u001b[0m)           │          \u001b[38;5;34m73,856\u001b[0m │\n",
              "├──────────────────────────────────────┼─────────────────────────────┼─────────────────┤\n",
              "│ conv2d_33 (\u001b[38;5;33mConv2D\u001b[0m)                   │ (\u001b[38;5;34m10\u001b[0m, \u001b[38;5;34m38\u001b[0m, \u001b[38;5;34m75\u001b[0m, \u001b[38;5;34m128\u001b[0m)           │         \u001b[38;5;34m147,584\u001b[0m │\n",
              "├──────────────────────────────────────┼─────────────────────────────┼─────────────────┤\n",
              "│ conv2d_34 (\u001b[38;5;33mConv2D\u001b[0m)                   │ (\u001b[38;5;34m10\u001b[0m, \u001b[38;5;34m38\u001b[0m, \u001b[38;5;34m75\u001b[0m, \u001b[38;5;34m128\u001b[0m)           │         \u001b[38;5;34m147,584\u001b[0m │\n",
              "├──────────────────────────────────────┼─────────────────────────────┼─────────────────┤\n",
              "│ conv2d_35 (\u001b[38;5;33mConv2D\u001b[0m)                   │ (\u001b[38;5;34m10\u001b[0m, \u001b[38;5;34m38\u001b[0m, \u001b[38;5;34m75\u001b[0m, \u001b[38;5;34m128\u001b[0m)           │         \u001b[38;5;34m147,584\u001b[0m │\n",
              "├──────────────────────────────────────┼─────────────────────────────┼─────────────────┤\n",
              "│ conv2d_36 (\u001b[38;5;33mConv2D\u001b[0m)                   │ (\u001b[38;5;34m10\u001b[0m, \u001b[38;5;34m19\u001b[0m, \u001b[38;5;34m38\u001b[0m, \u001b[38;5;34m128\u001b[0m)           │         \u001b[38;5;34m147,584\u001b[0m │\n",
              "├──────────────────────────────────────┼─────────────────────────────┼─────────────────┤\n",
              "│ conv2d_37 (\u001b[38;5;33mConv2D\u001b[0m)                   │ (\u001b[38;5;34m10\u001b[0m, \u001b[38;5;34m19\u001b[0m, \u001b[38;5;34m38\u001b[0m, \u001b[38;5;34m128\u001b[0m)           │         \u001b[38;5;34m147,584\u001b[0m │\n",
              "├──────────────────────────────────────┼─────────────────────────────┼─────────────────┤\n",
              "│ conv2d_38 (\u001b[38;5;33mConv2D\u001b[0m)                   │ (\u001b[38;5;34m10\u001b[0m, \u001b[38;5;34m19\u001b[0m, \u001b[38;5;34m38\u001b[0m, \u001b[38;5;34m128\u001b[0m)           │         \u001b[38;5;34m147,584\u001b[0m │\n",
              "├──────────────────────────────────────┼─────────────────────────────┼─────────────────┤\n",
              "│ conv2d_39 (\u001b[38;5;33mConv2D\u001b[0m)                   │ (\u001b[38;5;34m10\u001b[0m, \u001b[38;5;34m19\u001b[0m, \u001b[38;5;34m38\u001b[0m, \u001b[38;5;34m128\u001b[0m)           │         \u001b[38;5;34m147,584\u001b[0m │\n",
              "├──────────────────────────────────────┼─────────────────────────────┼─────────────────┤\n",
              "│ conv2d_40 (\u001b[38;5;33mConv2D\u001b[0m)                   │ (\u001b[38;5;34m10\u001b[0m, \u001b[38;5;34m19\u001b[0m, \u001b[38;5;34m38\u001b[0m, \u001b[38;5;34m128\u001b[0m)           │         \u001b[38;5;34m147,584\u001b[0m │\n",
              "├──────────────────────────────────────┼─────────────────────────────┼─────────────────┤\n",
              "│ conv2d_41 (\u001b[38;5;33mConv2D\u001b[0m)                   │ (\u001b[38;5;34m10\u001b[0m, \u001b[38;5;34m10\u001b[0m, \u001b[38;5;34m19\u001b[0m, \u001b[38;5;34m128\u001b[0m)           │         \u001b[38;5;34m147,584\u001b[0m │\n",
              "├──────────────────────────────────────┼─────────────────────────────┼─────────────────┤\n",
              "│ dropout_1 (\u001b[38;5;33mDropout\u001b[0m)                  │ ?                           │               \u001b[38;5;34m0\u001b[0m │\n",
              "├──────────────────────────────────────┼─────────────────────────────┼─────────────────┤\n",
              "│ flatten_1 (\u001b[38;5;33mFlatten\u001b[0m)                  │ (\u001b[38;5;34m10\u001b[0m, \u001b[38;5;34m24320\u001b[0m)                 │               \u001b[38;5;34m0\u001b[0m │\n",
              "├──────────────────────────────────────┼─────────────────────────────┼─────────────────┤\n",
              "│ dense_1 (\u001b[38;5;33mDense\u001b[0m)                      │ (\u001b[38;5;34m10\u001b[0m, \u001b[38;5;34m100\u001b[0m)                   │       \u001b[38;5;34m2,432,100\u001b[0m │\n",
              "├──────────────────────────────────────┼─────────────────────────────┼─────────────────┤\n",
              "│ dense_2 (\u001b[38;5;33mDense\u001b[0m)                      │ (\u001b[38;5;34m10\u001b[0m, \u001b[38;5;34m3\u001b[0m)                     │             \u001b[38;5;34m303\u001b[0m │\n",
              "└──────────────────────────────────────┴─────────────────────────────┴─────────────────┘\n"
            ]
          },
          "metadata": {},
          "output_type": "display_data"
        },
        {
          "data": {
            "text/html": [
              "<pre style=\"white-space:pre;overflow-x:auto;line-height:normal;font-family:Menlo,'DejaVu Sans Mono',consolas,'Courier New',monospace\"><span style=\"font-weight: bold\"> Total params: </span><span style=\"color: #00af00; text-decoration-color: #00af00\">12,086,843</span> (46.11 MB)\n",
              "</pre>\n"
            ],
            "text/plain": [
              "\u001b[1m Total params: \u001b[0m\u001b[38;5;34m12,086,843\u001b[0m (46.11 MB)\n"
            ]
          },
          "metadata": {},
          "output_type": "display_data"
        },
        {
          "data": {
            "text/html": [
              "<pre style=\"white-space:pre;overflow-x:auto;line-height:normal;font-family:Menlo,'DejaVu Sans Mono',consolas,'Courier New',monospace\"><span style=\"font-weight: bold\"> Trainable params: </span><span style=\"color: #00af00; text-decoration-color: #00af00\">4,028,947</span> (15.37 MB)\n",
              "</pre>\n"
            ],
            "text/plain": [
              "\u001b[1m Trainable params: \u001b[0m\u001b[38;5;34m4,028,947\u001b[0m (15.37 MB)\n"
            ]
          },
          "metadata": {},
          "output_type": "display_data"
        },
        {
          "data": {
            "text/html": [
              "<pre style=\"white-space:pre;overflow-x:auto;line-height:normal;font-family:Menlo,'DejaVu Sans Mono',consolas,'Courier New',monospace\"><span style=\"font-weight: bold\"> Non-trainable params: </span><span style=\"color: #00af00; text-decoration-color: #00af00\">0</span> (0.00 B)\n",
              "</pre>\n"
            ],
            "text/plain": [
              "\u001b[1m Non-trainable params: \u001b[0m\u001b[38;5;34m0\u001b[0m (0.00 B)\n"
            ]
          },
          "metadata": {},
          "output_type": "display_data"
        },
        {
          "data": {
            "text/html": [
              "<pre style=\"white-space:pre;overflow-x:auto;line-height:normal;font-family:Menlo,'DejaVu Sans Mono',consolas,'Courier New',monospace\"><span style=\"font-weight: bold\"> Optimizer params: </span><span style=\"color: #00af00; text-decoration-color: #00af00\">8,057,896</span> (30.74 MB)\n",
              "</pre>\n"
            ],
            "text/plain": [
              "\u001b[1m Optimizer params: \u001b[0m\u001b[38;5;34m8,057,896\u001b[0m (30.74 MB)\n"
            ]
          },
          "metadata": {},
          "output_type": "display_data"
        }
      ],
      "source": [
        "model.summary()"
      ]
    },
    {
      "cell_type": "code",
      "execution_count": null,
      "metadata": {
        "id": "aEWBLRQ-lIYl"
      },
      "outputs": [],
      "source": [
        "import numpy as np\n",
        "import tensorflow as tf\n",
        "import matplotlib.pyplot as plt\n",
        "import seaborn as sns\n",
        "from sklearn.metrics import confusion_matrix, classification_report"
      ]
    },
    {
      "cell_type": "code",
      "execution_count": null,
      "metadata": {
        "colab": {
          "base_uri": "https://localhost:8080/"
        },
        "id": "rlGAIGs7k4pJ",
        "outputId": "9d5e9d2f-5296-44c0-d4f1-5e5631df1cbe"
      },
      "outputs": [
        {
          "name": "stderr",
          "output_type": "stream",
          "text": [
            "/usr/local/lib/python3.11/dist-packages/keras/src/trainers/data_adapters/py_dataset_adapter.py:121: UserWarning: Your `PyDataset` class should call `super().__init__(**kwargs)` in its constructor. `**kwargs` can include `workers`, `use_multiprocessing`, `max_queue_size`. Do not pass these arguments to `fit()`, as they will be ignored.\n",
            "  self._warn_if_super_not_called()\n"
          ]
        },
        {
          "name": "stdout",
          "output_type": "stream",
          "text": [
            "\u001b[1m18/18\u001b[0m \u001b[32m━━━━━━━━━━━━━━━━━━━━\u001b[0m\u001b[37m\u001b[0m \u001b[1m5s\u001b[0m 167ms/step - accuracy: 0.3233 - loss: 1.0986\n",
            "\u001b[1m1/1\u001b[0m \u001b[32m━━━━━━━━━━━━━━━━━━━━\u001b[0m\u001b[37m\u001b[0m \u001b[1m1s\u001b[0m 848ms/step\n",
            "\u001b[1m1/1\u001b[0m \u001b[32m━━━━━━━━━━━━━━━━━━━━\u001b[0m\u001b[37m\u001b[0m \u001b[1m0s\u001b[0m 101ms/step\n",
            "\u001b[1m1/1\u001b[0m \u001b[32m━━━━━━━━━━━━━━━━━━━━\u001b[0m\u001b[37m\u001b[0m \u001b[1m0s\u001b[0m 93ms/step\n",
            "\u001b[1m1/1\u001b[0m \u001b[32m━━━━━━━━━━━━━━━━━━━━\u001b[0m\u001b[37m\u001b[0m \u001b[1m0s\u001b[0m 92ms/step\n",
            "\u001b[1m1/1\u001b[0m \u001b[32m━━━━━━━━━━━━━━━━━━━━\u001b[0m\u001b[37m\u001b[0m \u001b[1m0s\u001b[0m 92ms/step\n",
            "\u001b[1m1/1\u001b[0m \u001b[32m━━━━━━━━━━━━━━━━━━━━\u001b[0m\u001b[37m\u001b[0m \u001b[1m0s\u001b[0m 92ms/step\n",
            "\u001b[1m1/1\u001b[0m \u001b[32m━━━━━━━━━━━━━━━━━━━━\u001b[0m\u001b[37m\u001b[0m \u001b[1m0s\u001b[0m 91ms/step\n",
            "\u001b[1m1/1\u001b[0m \u001b[32m━━━━━━━━━━━━━━━━━━━━\u001b[0m\u001b[37m\u001b[0m \u001b[1m0s\u001b[0m 100ms/step\n",
            "\u001b[1m1/1\u001b[0m \u001b[32m━━━━━━━━━━━━━━━━━━━━\u001b[0m\u001b[37m\u001b[0m \u001b[1m0s\u001b[0m 91ms/step\n",
            "\u001b[1m1/1\u001b[0m \u001b[32m━━━━━━━━━━━━━━━━━━━━\u001b[0m\u001b[37m\u001b[0m \u001b[1m0s\u001b[0m 93ms/step\n",
            "\u001b[1m1/1\u001b[0m \u001b[32m━━━━━━━━━━━━━━━━━━━━\u001b[0m\u001b[37m\u001b[0m \u001b[1m0s\u001b[0m 93ms/step\n",
            "\u001b[1m1/1\u001b[0m \u001b[32m━━━━━━━━━━━━━━━━━━━━\u001b[0m\u001b[37m\u001b[0m \u001b[1m0s\u001b[0m 92ms/step\n",
            "\u001b[1m1/1\u001b[0m \u001b[32m━━━━━━━━━━━━━━━━━━━━\u001b[0m\u001b[37m\u001b[0m \u001b[1m0s\u001b[0m 95ms/step\n",
            "\u001b[1m1/1\u001b[0m \u001b[32m━━━━━━━━━━━━━━━━━━━━\u001b[0m\u001b[37m\u001b[0m \u001b[1m0s\u001b[0m 92ms/step\n",
            "\u001b[1m1/1\u001b[0m \u001b[32m━━━━━━━━━━━━━━━━━━━━\u001b[0m\u001b[37m\u001b[0m \u001b[1m0s\u001b[0m 92ms/step\n",
            "\u001b[1m1/1\u001b[0m \u001b[32m━━━━━━━━━━━━━━━━━━━━\u001b[0m\u001b[37m\u001b[0m \u001b[1m0s\u001b[0m 93ms/step\n",
            "\u001b[1m1/1\u001b[0m \u001b[32m━━━━━━━━━━━━━━━━━━━━\u001b[0m\u001b[37m\u001b[0m \u001b[1m0s\u001b[0m 91ms/step\n",
            "\u001b[1m1/1\u001b[0m \u001b[32m━━━━━━━━━━━━━━━━━━━━\u001b[0m\u001b[37m\u001b[0m \u001b[1m0s\u001b[0m 91ms/step\n"
          ]
        }
      ],
      "source": [
        "# Load the trained model\n",
        "model.evaluate(train_data)  # Evaluate accuracy on training data\n",
        "\n",
        "# Get True Labels & Predictions\n",
        "y_true = []\n",
        "y_pred = []\n",
        "\n",
        "for x_batch, y_batch in train_data:\n",
        "    preds = model.predict(x_batch)  # Raw logits\n",
        "    preds = np.argmax(preds, axis=1)  # Convert logits to class labels\n",
        "\n",
        "    y_true.extend(y_batch)\n",
        "    y_pred.extend(preds)\n",
        "\n",
        "    if len(y_true) >= train_data.samples:  # Stop once all data is processed\n",
        "        break\n",
        "\n",
        "y_true = np.array(y_true)\n",
        "y_pred = np.array(y_pred)\n",
        "\n",
        "# Compute Confusion Matrix\n",
        "cm = confusion_matrix(y_true, y_pred)"
      ]
    },
    {
      "cell_type": "code",
      "execution_count": null,
      "metadata": {
        "colab": {
          "base_uri": "https://localhost:8080/",
          "height": 814
        },
        "id": "SNfOnIEjlk7h",
        "outputId": "ba0140b2-7397-46ec-c60c-1a65d68441da"
      },
      "outputs": [
        {
          "data": {
            "image/png": "[encoded data removed]",
            "text/plain": [
              "<Figure size 600x500 with 2 Axes>"
            ]
          },
          "metadata": {},
          "output_type": "display_data"
        },
        {
          "name": "stdout",
          "output_type": "stream",
          "text": [
            "Classification Report:\n",
            "               precision    recall  f1-score   support\n",
            "\n",
            "         0.0       0.00      0.00      0.00        60\n",
            "         1.0       0.33      1.00      0.50        60\n",
            "         2.0       0.00      0.00      0.00        60\n",
            "\n",
            "    accuracy                           0.33       180\n",
            "   macro avg       0.11      0.33      0.17       180\n",
            "weighted avg       0.11      0.33      0.17       180\n",
            "\n"
          ]
        },
        {
          "name": "stderr",
          "output_type": "stream",
          "text": [
            "/usr/local/lib/python3.11/dist-packages/sklearn/metrics/_classification.py:1565: UndefinedMetricWarning: Precision is ill-defined and being set to 0.0 in labels with no predicted samples. Use `zero_division` parameter to control this behavior.\n",
            "  _warn_prf(average, modifier, f\"{metric.capitalize()} is\", len(result))\n",
            "/usr/local/lib/python3.11/dist-packages/sklearn/metrics/_classification.py:1565: UndefinedMetricWarning: Precision is ill-defined and being set to 0.0 in labels with no predicted samples. Use `zero_division` parameter to control this behavior.\n",
            "  _warn_prf(average, modifier, f\"{metric.capitalize()} is\", len(result))\n",
            "/usr/local/lib/python3.11/dist-packages/sklearn/metrics/_classification.py:1565: UndefinedMetricWarning: Precision is ill-defined and being set to 0.0 in labels with no predicted samples. Use `zero_division` parameter to control this behavior.\n",
            "  _warn_prf(average, modifier, f\"{metric.capitalize()} is\", len(result))\n"
          ]
        }
      ],
      "source": [
        "# Plot Confusion Matrix\n",
        "plt.figure(figsize=(6, 5))\n",
        "sns.heatmap(cm, annot=True, fmt='d', cmap='Blues', xticklabels=train_data.class_indices, yticklabels=train_data.class_indices)\n",
        "plt.xlabel(\"Predicted Labels\")\n",
        "plt.ylabel(\"True Labels\")\n",
        "plt.title(\"Confusion Matrix\")\n",
        "plt.grid(False)\n",
        "plt.show()\n",
        "\n",
        "# Print Classification Report\n",
        "print(\"Classification Report:\\n\", classification_report(y_true, y_pred))"
      ]
    },
    {
      "cell_type": "code",
      "execution_count": null,
      "metadata": {
        "colab": {
          "base_uri": "https://localhost:8080/",
          "height": 289
        },
        "id": "I2Bb-OUAlzeB",
        "outputId": "ebe22f23-f763-419b-92da-f422b99dc483"
      },
      "outputs": [
        {
          "data": {
            "text/html": [
              "<pre style=\"white-space:pre;overflow-x:auto;line-height:normal;font-family:Menlo,'DejaVu Sans Mono',consolas,'Courier New',monospace\"><span style=\"font-weight: bold\">Model: \"sequential_1\"</span>\n",
              "</pre>\n"
            ],
            "text/plain": [
              "\u001b[1mModel: \"sequential_1\"\u001b[0m\n"
            ]
          },
          "metadata": {},
          "output_type": "display_data"
        },
        {
          "data": {
            "text/html": [
              "<pre style=\"white-space:pre;overflow-x:auto;line-height:normal;font-family:Menlo,'DejaVu Sans Mono',consolas,'Courier New',monospace\">┏━━━━━━━━━━━━━━━━━━━━━━━━━━━━━━━━━━━━━━┳━━━━━━━━━━━━━━━━━━━━━━━━━━━━━┳━━━━━━━━━━━━━━━━━┓\n",
              "┃<span style=\"font-weight: bold\"> Layer (type)                         </span>┃<span style=\"font-weight: bold\"> Output Shape                </span>┃<span style=\"font-weight: bold\">         Param # </span>┃\n",
              "┡━━━━━━━━━━━━━━━━━━━━━━━━━━━━━━━━━━━━━━╇━━━━━━━━━━━━━━━━━━━━━━━━━━━━━╇━━━━━━━━━━━━━━━━━┩\n",
              "│ vgg19 (<span style=\"color: #0087ff; text-decoration-color: #0087ff\">Functional</span>)                   │ (<span style=\"color: #00d7ff; text-decoration-color: #00d7ff\">None</span>, <span style=\"color: #00af00; text-decoration-color: #00af00\">7</span>, <span style=\"color: #00af00; text-decoration-color: #00af00\">7</span>, <span style=\"color: #00af00; text-decoration-color: #00af00\">512</span>)           │      <span style=\"color: #00af00; text-decoration-color: #00af00\">20,024,384</span> │\n",
              "├──────────────────────────────────────┼─────────────────────────────┼─────────────────┤\n",
              "│ flatten_3 (<span style=\"color: #0087ff; text-decoration-color: #0087ff\">Flatten</span>)                  │ (<span style=\"color: #00d7ff; text-decoration-color: #00d7ff\">None</span>, <span style=\"color: #00af00; text-decoration-color: #00af00\">25088</span>)               │               <span style=\"color: #00af00; text-decoration-color: #00af00\">0</span> │\n",
              "├──────────────────────────────────────┼─────────────────────────────┼─────────────────┤\n",
              "│ dense_5 (<span style=\"color: #0087ff; text-decoration-color: #0087ff\">Dense</span>)                      │ (<span style=\"color: #00d7ff; text-decoration-color: #00d7ff\">None</span>, <span style=\"color: #00af00; text-decoration-color: #00af00\">512</span>)                 │      <span style=\"color: #00af00; text-decoration-color: #00af00\">12,845,568</span> │\n",
              "├──────────────────────────────────────┼─────────────────────────────┼─────────────────┤\n",
              "│ dropout_3 (<span style=\"color: #0087ff; text-decoration-color: #0087ff\">Dropout</span>)                  │ (<span style=\"color: #00d7ff; text-decoration-color: #00d7ff\">None</span>, <span style=\"color: #00af00; text-decoration-color: #00af00\">512</span>)                 │               <span style=\"color: #00af00; text-decoration-color: #00af00\">0</span> │\n",
              "├──────────────────────────────────────┼─────────────────────────────┼─────────────────┤\n",
              "│ dense_6 (<span style=\"color: #0087ff; text-decoration-color: #0087ff\">Dense</span>)                      │ (<span style=\"color: #00d7ff; text-decoration-color: #00d7ff\">None</span>, <span style=\"color: #00af00; text-decoration-color: #00af00\">3</span>)                   │           <span style=\"color: #00af00; text-decoration-color: #00af00\">1,539</span> │\n",
              "└──────────────────────────────────────┴─────────────────────────────┴─────────────────┘\n",
              "</pre>\n"
            ],
            "text/plain": [
              "┏━━━━━━━━━━━━━━━━━━━━━━━━━━━━━━━━━━━━━━┳━━━━━━━━━━━━━━━━━━━━━━━━━━━━━┳━━━━━━━━━━━━━━━━━┓\n",
              "┃\u001b[1m \u001b[0m\u001b[1mLayer (type)                        \u001b[0m\u001b[1m \u001b[0m┃\u001b[1m \u001b[0m\u001b[1mOutput Shape               \u001b[0m\u001b[1m \u001b[0m┃\u001b[1m \u001b[0m\u001b[1m        Param #\u001b[0m\u001b[1m \u001b[0m┃\n",
              "┡━━━━━━━━━━━━━━━━━━━━━━━━━━━━━━━━━━━━━━╇━━━━━━━━━━━━━━━━━━━━━━━━━━━━━╇━━━━━━━━━━━━━━━━━┩\n",
              "│ vgg19 (\u001b[38;5;33mFunctional\u001b[0m)                   │ (\u001b[38;5;45mNone\u001b[0m, \u001b[38;5;34m7\u001b[0m, \u001b[38;5;34m7\u001b[0m, \u001b[38;5;34m512\u001b[0m)           │      \u001b[38;5;34m20,024,384\u001b[0m │\n",
              "├──────────────────────────────────────┼─────────────────────────────┼─────────────────┤\n",
              "│ flatten_3 (\u001b[38;5;33mFlatten\u001b[0m)                  │ (\u001b[38;5;45mNone\u001b[0m, \u001b[38;5;34m25088\u001b[0m)               │               \u001b[38;5;34m0\u001b[0m │\n",
              "├──────────────────────────────────────┼─────────────────────────────┼─────────────────┤\n",
              "│ dense_5 (\u001b[38;5;33mDense\u001b[0m)                      │ (\u001b[38;5;45mNone\u001b[0m, \u001b[38;5;34m512\u001b[0m)                 │      \u001b[38;5;34m12,845,568\u001b[0m │\n",
              "├──────────────────────────────────────┼─────────────────────────────┼─────────────────┤\n",
              "│ dropout_3 (\u001b[38;5;33mDropout\u001b[0m)                  │ (\u001b[38;5;45mNone\u001b[0m, \u001b[38;5;34m512\u001b[0m)                 │               \u001b[38;5;34m0\u001b[0m │\n",
              "├──────────────────────────────────────┼─────────────────────────────┼─────────────────┤\n",
              "│ dense_6 (\u001b[38;5;33mDense\u001b[0m)                      │ (\u001b[38;5;45mNone\u001b[0m, \u001b[38;5;34m3\u001b[0m)                   │           \u001b[38;5;34m1,539\u001b[0m │\n",
              "└──────────────────────────────────────┴─────────────────────────────┴─────────────────┘\n"
            ]
          },
          "metadata": {},
          "output_type": "display_data"
        },
        {
          "data": {
            "text/html": [
              "<pre style=\"white-space:pre;overflow-x:auto;line-height:normal;font-family:Menlo,'DejaVu Sans Mono',consolas,'Courier New',monospace\"><span style=\"font-weight: bold\"> Total params: </span><span style=\"color: #00af00; text-decoration-color: #00af00\">32,871,491</span> (125.39 MB)\n",
              "</pre>\n"
            ],
            "text/plain": [
              "\u001b[1m Total params: \u001b[0m\u001b[38;5;34m32,871,491\u001b[0m (125.39 MB)\n"
            ]
          },
          "metadata": {},
          "output_type": "display_data"
        },
        {
          "data": {
            "text/html": [
              "<pre style=\"white-space:pre;overflow-x:auto;line-height:normal;font-family:Menlo,'DejaVu Sans Mono',consolas,'Courier New',monospace\"><span style=\"font-weight: bold\"> Trainable params: </span><span style=\"color: #00af00; text-decoration-color: #00af00\">12,847,107</span> (49.01 MB)\n",
              "</pre>\n"
            ],
            "text/plain": [
              "\u001b[1m Trainable params: \u001b[0m\u001b[38;5;34m12,847,107\u001b[0m (49.01 MB)\n"
            ]
          },
          "metadata": {},
          "output_type": "display_data"
        },
        {
          "data": {
            "text/html": [
              "<pre style=\"white-space:pre;overflow-x:auto;line-height:normal;font-family:Menlo,'DejaVu Sans Mono',consolas,'Courier New',monospace\"><span style=\"font-weight: bold\"> Non-trainable params: </span><span style=\"color: #00af00; text-decoration-color: #00af00\">20,024,384</span> (76.39 MB)\n",
              "</pre>\n"
            ],
            "text/plain": [
              "\u001b[1m Non-trainable params: \u001b[0m\u001b[38;5;34m20,024,384\u001b[0m (76.39 MB)\n"
            ]
          },
          "metadata": {},
          "output_type": "display_data"
        }
      ],
      "source": [
        "# Load pre-trained VGG19 model (without top classification layers)\n",
        "base_model = keras.applications.VGG19(\n",
        "    include_top=False,  # Exclude the default classification head\n",
        "    weights=\"imagenet\",  # Use pre-trained ImageNet weights\n",
        "    input_shape=(224, 224, 3)  # Adjust based on your dataset's image size\n",
        ")\n",
        "\n",
        "# Freeze the base model to retain pre-trained weights\n",
        "base_model.trainable = False\n",
        "\n",
        "# Build the new model with a custom classification head\n",
        "model = keras.Sequential([\n",
        "    base_model,\n",
        "    layers.Flatten(),\n",
        "    layers.Dense(512, activation=\"elu\"),  # Fully connected layer with ELU activation\n",
        "    layers.Dropout(0.5),  # Dropout for regularization\n",
        "    layers.Dense(3, activation=\"softmax\")  # Output layer for 3 classes\n",
        "])\n",
        "\n",
        "# Compile the model\n",
        "model.compile(optimizer=keras.optimizers.Adam(learning_rate=0.0001),\n",
        "              loss=keras.losses.SparseCategoricalCrossentropy(from_logits=False),\n",
        "              metrics=['accuracy'])\n",
        "\n",
        "# Print model summary\n",
        "model.summary()"
      ]
    },
    {
      "cell_type": "code",
      "execution_count": null,
      "metadata": {
        "colab": {
          "base_uri": "https://localhost:8080/"
        },
        "id": "5fkPul0voCcH",
        "outputId": "30c4eae4-cda6-45c4-bb02-ff472e94575b"
      },
      "outputs": [
        {
          "name": "stdout",
          "output_type": "stream",
          "text": [
            "Found 180 images belonging to 3 classes.\n"
          ]
        }
      ],
      "source": [
        "# Data Preprocessing\n",
        "data_dir = Path(\"training\")  # Root directory of the dataset\n",
        "\n",
        "data_generator = keras.preprocessing.image.ImageDataGenerator(\n",
        "    rescale=1./255  # Normalize images\n",
        ")\n",
        "\n",
        "train_data = data_generator.flow_from_directory(\n",
        "    directory=data_dir,\n",
        "    target_size=(224, 224),  # Resize images\n",
        "    batch_size=10,\n",
        "    class_mode='sparse'  # Sparse labels for integer-based classification\n",
        ")"
      ]
    },
    {
      "cell_type": "code",
      "execution_count": null,
      "metadata": {
        "colab": {
          "base_uri": "https://localhost:8080/"
        },
        "id": "9f-rvxLunxEW",
        "outputId": "9f1d030c-9c81-4e9f-818a-4801caaf2343"
      },
      "outputs": [
        {
          "name": "stdout",
          "output_type": "stream",
          "text": [
            "Epoch 0 | Loss: 1.9513\n",
            "Epoch 10 | Loss: 1.3588\n",
            "Epoch 20 | Loss: 1.2502\n",
            "Epoch 30 | Loss: 1.1885\n",
            "Epoch 40 | Loss: 1.1440\n",
            "Epoch 50 | Loss: 1.1084\n",
            "Epoch 60 | Loss: 1.0890\n",
            "Epoch 70 | Loss: 1.0662\n",
            "Epoch 80 | Loss: 1.0480\n",
            "Epoch 90 | Loss: 1.0354\n"
          ]
        }
      ],
      "source": [
        "EPOCHS =100\n",
        "loss=keras.losses.SparseCategoricalCrossentropy(from_logits=False)\n",
        "\n",
        "for epoch in range(EPOCHS):\n",
        "    total_loss = 0\n",
        "    num_batches = 0\n",
        "\n",
        "    for x, y in train_data:\n",
        "        loss = model.train_on_batch(x, y)\n",
        "        total_loss += loss[0]  # loss[0] contains the loss value\n",
        "        num_batches += 1\n",
        "\n",
        "        # Stop iteration once all training data has been processed in this epoch\n",
        "        if num_batches >= len(train_data):\n",
        "            break\n",
        "\n",
        "    avg_loss = total_loss / num_batches\n",
        "    if epoch % 10 == 0:\n",
        "        print(f\"Epoch {epoch} | Loss: {avg_loss:.4f}\")"
      ]
    },
    {
      "cell_type": "code",
      "execution_count": null,
      "metadata": {
        "colab": {
          "base_uri": "https://localhost:8080/"
        },
        "id": "GB6CROvHn5OF",
        "outputId": "1316224d-5810-4f4b-daea-69d5929f6d43"
      },
      "outputs": [
        {
          "name": "stderr",
          "output_type": "stream",
          "text": [
            "/usr/local/lib/python3.11/dist-packages/keras/src/trainers/data_adapters/py_dataset_adapter.py:121: UserWarning: Your `PyDataset` class should call `super().__init__(**kwargs)` in its constructor. `**kwargs` can include `workers`, `use_multiprocessing`, `max_queue_size`. Do not pass these arguments to `fit()`, as they will be ignored.\n",
            "  self._warn_if_super_not_called()\n"
          ]
        },
        {
          "name": "stdout",
          "output_type": "stream",
          "text": [
            "\u001b[1m18/18\u001b[0m \u001b[32m━━━━━━━━━━━━━━━━━━━━\u001b[0m\u001b[37m\u001b[0m \u001b[1m4s\u001b[0m 151ms/step - accuracy: 0.6316 - loss: 0.7324\n",
            "\u001b[1m1/1\u001b[0m \u001b[32m━━━━━━━━━━━━━━━━━━━━\u001b[0m\u001b[37m\u001b[0m \u001b[1m1s\u001b[0m 687ms/step\n",
            "\u001b[1m1/1\u001b[0m \u001b[32m━━━━━━━━━━━━━━━━━━━━\u001b[0m\u001b[37m\u001b[0m \u001b[1m0s\u001b[0m 100ms/step\n",
            "\u001b[1m1/1\u001b[0m \u001b[32m━━━━━━━━━━━━━━━━━━━━\u001b[0m\u001b[37m\u001b[0m \u001b[1m0s\u001b[0m 105ms/step\n",
            "\u001b[1m1/1\u001b[0m \u001b[32m━━━━━━━━━━━━━━━━━━━━\u001b[0m\u001b[37m\u001b[0m \u001b[1m0s\u001b[0m 111ms/step\n",
            "\u001b[1m1/1\u001b[0m \u001b[32m━━━━━━━━━━━━━━━━━━━━\u001b[0m\u001b[37m\u001b[0m \u001b[1m0s\u001b[0m 113ms/step\n",
            "\u001b[1m1/1\u001b[0m \u001b[32m━━━━━━━━━━━━━━━━━━━━\u001b[0m\u001b[37m\u001b[0m \u001b[1m0s\u001b[0m 116ms/step\n",
            "\u001b[1m1/1\u001b[0m \u001b[32m━━━━━━━━━━━━━━━━━━━━\u001b[0m\u001b[37m\u001b[0m \u001b[1m0s\u001b[0m 112ms/step\n",
            "\u001b[1m1/1\u001b[0m \u001b[32m━━━━━━━━━━━━━━━━━━━━\u001b[0m\u001b[37m\u001b[0m \u001b[1m0s\u001b[0m 112ms/step\n",
            "\u001b[1m1/1\u001b[0m \u001b[32m━━━━━━━━━━━━━━━━━━━━\u001b[0m\u001b[37m\u001b[0m \u001b[1m0s\u001b[0m 134ms/step\n",
            "\u001b[1m1/1\u001b[0m \u001b[32m━━━━━━━━━━━━━━━━━━━━\u001b[0m\u001b[37m\u001b[0m \u001b[1m0s\u001b[0m 127ms/step\n",
            "\u001b[1m1/1\u001b[0m \u001b[32m━━━━━━━━━━━━━━━━━━━━\u001b[0m\u001b[37m\u001b[0m \u001b[1m0s\u001b[0m 125ms/step\n",
            "\u001b[1m1/1\u001b[0m \u001b[32m━━━━━━━━━━━━━━━━━━━━\u001b[0m\u001b[37m\u001b[0m \u001b[1m0s\u001b[0m 134ms/step\n",
            "\u001b[1m1/1\u001b[0m \u001b[32m━━━━━━━━━━━━━━━━━━━━\u001b[0m\u001b[37m\u001b[0m \u001b[1m0s\u001b[0m 128ms/step\n",
            "\u001b[1m1/1\u001b[0m \u001b[32m━━━━━━━━━━━━━━━━━━━━\u001b[0m\u001b[37m\u001b[0m \u001b[1m0s\u001b[0m 128ms/step\n",
            "\u001b[1m1/1\u001b[0m \u001b[32m━━━━━━━━━━━━━━━━━━━━\u001b[0m\u001b[37m\u001b[0m \u001b[1m0s\u001b[0m 139ms/step\n",
            "\u001b[1m1/1\u001b[0m \u001b[32m━━━━━━━━━━━━━━━━━━━━\u001b[0m\u001b[37m\u001b[0m \u001b[1m0s\u001b[0m 279ms/step\n",
            "\u001b[1m1/1\u001b[0m \u001b[32m━━━━━━━━━━━━━━━━━━━━\u001b[0m\u001b[37m\u001b[0m \u001b[1m0s\u001b[0m 158ms/step\n",
            "\u001b[1m1/1\u001b[0m \u001b[32m━━━━━━━━━━━━━━━━━━━━\u001b[0m\u001b[37m\u001b[0m \u001b[1m0s\u001b[0m 133ms/step\n"
          ]
        }
      ],
      "source": [
        "# Load the trained model\n",
        "model.evaluate(train_data)  # Evaluate accuracy on training data\n",
        "\n",
        "# Get True Labels & Predictions\n",
        "y_true = []\n",
        "y_pred = []\n",
        "\n",
        "for x_batch, y_batch in train_data:\n",
        "    preds = model.predict(x_batch)  # Raw logits\n",
        "    preds = np.argmax(preds, axis=1)  # Convert logits to class labels\n",
        "\n",
        "    y_true.extend(y_batch)\n",
        "    y_pred.extend(preds)\n",
        "\n",
        "    if len(y_true) >= train_data.samples:  # Stop once all data is processed\n",
        "        break\n",
        "\n",
        "y_true = np.array(y_true)\n",
        "y_pred = np.array(y_pred)\n",
        "\n",
        "# Compute Confusion Matrix\n",
        "cm = confusion_matrix(y_true, y_pred)"
      ]
    },
    {
      "cell_type": "code",
      "execution_count": null,
      "metadata": {
        "colab": {
          "base_uri": "https://localhost:8080/",
          "height": 690
        },
        "id": "KdpEH9koq4Tl",
        "outputId": "50952e64-4940-497d-f6ab-6f2a5f6f0d19"
      },
      "outputs": [
        {
          "data": {
            "image/png": "[encoded data removed]",
            "text/plain": [
              "<Figure size 600x500 with 2 Axes>"
            ]
          },
          "metadata": {},
          "output_type": "display_data"
        },
        {
          "name": "stdout",
          "output_type": "stream",
          "text": [
            "Classification Report:\n",
            "               precision    recall  f1-score   support\n",
            "\n",
            "         0.0       1.00      0.72      0.84        58\n",
            "         1.0       0.50      0.90      0.64        63\n",
            "         2.0       0.74      0.29      0.41        59\n",
            "\n",
            "    accuracy                           0.64       180\n",
            "   macro avg       0.74      0.64      0.63       180\n",
            "weighted avg       0.74      0.64      0.63       180\n",
            "\n"
          ]
        }
      ],
      "source": [
        "# Plot Confusion Matrix\n",
        "plt.figure(figsize=(6, 5))\n",
        "sns.heatmap(cm, annot=True, fmt='d', cmap='Blues', xticklabels=train_data.class_indices, yticklabels=train_data.class_indices)\n",
        "plt.xlabel(\"Predicted Labels\")\n",
        "plt.ylabel(\"True Labels\")\n",
        "plt.title(\"Confusion Matrix\")\n",
        "plt.grid(False)\n",
        "plt.show()\n",
        "\n",
        "# Print Classification Report\n",
        "print(\"Classification Report:\\n\", classification_report(y_true, y_pred))"
      ]
    },
    {
      "cell_type": "code",
      "execution_count": null,
      "metadata": {
        "id": "1G-7ST-2rAXO"
      },
      "outputs": [],
      "source": []
    }
  ],
  "metadata": {
    "accelerator": "GPU",
    "colab": {
      "gpuType": "T4",
      "provenance": [],
      "authorship_tag": "ABX9TyPzXivLyh85JQ065uJHLfIa",
      "include_colab_link": true
    },
    "kernelspec": {
      "display_name": "Python 3",
      "name": "python3"
    },
    "language_info": {
      "name": "python"
    }
  },
  "nbformat": 4,
  "nbformat_minor": 0
}